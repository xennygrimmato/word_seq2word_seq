{
 "cells": [
  {
   "cell_type": "code",
   "execution_count": 1,
   "metadata": {
    "collapsed": false
   },
   "outputs": [
    {
     "name": "stdout",
     "output_type": "stream",
     "text": [
      "Number of samples: 1000\n"
     ]
    }
   ],
   "source": [
    "from src.dataset import Dataset\n",
    "\n",
    "dataset = Dataset(data_path='src/fra.txt')\n",
    "dataset.generate_samples(num_samples=1000, character_level=True)"
   ]
  },
  {
   "cell_type": "code",
   "execution_count": 2,
   "metadata": {
    "collapsed": false
   },
   "outputs": [
    {
     "name": "stderr",
     "output_type": "stream",
     "text": [
      "Using TensorFlow backend.\n"
     ]
    },
    {
     "name": "stdout",
     "output_type": "stream",
     "text": [
      "WARNING:tensorflow:From /Users/kadam/.virtualenvs/chat/lib/python3.6/site-packages/tensorflow/python/framework/op_def_library.py:263: colocate_with (from tensorflow.python.framework.ops) is deprecated and will be removed in a future version.\nInstructions for updating:\nColocations handled automatically by placer.\n"
     ]
    }
   ],
   "source": [
    "from src.seq2seq import Seq2SeqModel\n",
    "model = Seq2SeqModel(dataset.num_encoder_tokens, dataset.num_decoder_tokens, dataset.target_token_index['\\t'], dataset.target_token_index['\\n'],)\n"
   ]
  },
  {
   "cell_type": "code",
   "execution_count": 3,
   "metadata": {},
   "outputs": [],
   "source": [
    "from keras.utils import plot_model\n",
    "plot_model(model.train_model, show_shapes=True, to_file='src/train_model.png')\n",
    "plot_model(model.encoder_model, show_shapes=True, to_file='src/encoder_model.png')\n",
    "plot_model(model.decoder_model, show_shapes=True, to_file='src/decoder_model.png')\n"
   ]
  },
  {
   "cell_type": "code",
   "execution_count": 4,
   "metadata": {},
   "outputs": [
    {
     "name": "stdout",
     "output_type": "stream",
     "text": [
      "WARNING:tensorflow:From /Users/kadam/.virtualenvs/chat/lib/python3.6/site-packages/tensorflow/python/ops/math_ops.py:3066: to_int32 (from tensorflow.python.ops.math_ops) is deprecated and will be removed in a future version.\nInstructions for updating:\nUse tf.cast instead.\n"
     ]
    },
    {
     "name": "stdout",
     "output_type": "stream",
     "text": [
      "WARNING:tensorflow:From /Users/kadam/.virtualenvs/chat/lib/python3.6/site-packages/tensorflow/python/ops/math_grad.py:102: div (from tensorflow.python.ops.math_ops) is deprecated and will be removed in a future version.\nInstructions for updating:\nDeprecated in favor of operator or tf.math.divide.\n"
     ]
    },
    {
     "name": "stdout",
     "output_type": "stream",
     "text": [
      "Train on 800 samples, validate on 200 samples\nEpoch 1/20\n"
     ]
    },
    {
     "name": "stdout",
     "output_type": "stream",
     "text": [
      "\r 64/800 [=>............................] - ETA: 13s - loss: 1.8743"
     ]
    },
    {
     "name": "stdout",
     "output_type": "stream",
     "text": [
      "\b\b\b\b\b\b\b\b\b\b\b\b\b\b\b\b\b\b\b\b\b\b\b\b\b\b\b\b\b\b\b\b\b\b\b\b\b\b\b\b\b\b\b\b\b\b\b\b\b\b\b\b\b\b\b\b\b\b\b\b\b\b\b\b\b\b\r128/800 [===>..........................] - ETA: 6s - loss: 1.8643 "
     ]
    },
    {
     "name": "stdout",
     "output_type": "stream",
     "text": [
      "\b\b\b\b\b\b\b\b\b\b\b\b\b\b\b\b\b\b\b\b\b\b\b\b\b\b\b\b\b\b\b\b\b\b\b\b\b\b\b\b\b\b\b\b\b\b\b\b\b\b\b\b\b\b\b\b\b\b\b\b\b\b\b\b\b\r192/800 [======>.......................] - ETA: 4s - loss: 1.9068"
     ]
    },
    {
     "name": "stdout",
     "output_type": "stream",
     "text": [
      "\b\b\b\b\b\b\b\b\b\b\b\b\b\b\b\b\b\b\b\b\b\b\b\b\b\b\b\b\b\b\b\b\b\b\b\b\b\b\b\b\b\b\b\b\b\b\b\b\b\b\b\b\b\b\b\b\b\b\b\b\b\b\b\b\b\r256/800 [========>.....................] - ETA: 3s - loss: 1.8772"
     ]
    },
    {
     "name": "stdout",
     "output_type": "stream",
     "text": [
      "\b\b\b\b\b\b\b\b\b\b\b\b\b\b\b\b\b\b\b\b\b\b\b\b\b\b\b\b\b\b\b\b\b\b\b\b\b\b\b\b\b\b\b\b\b\b\b\b\b\b\b\b\b\b\b\b\b\b\b\b\b\b\b\b\b\r320/800 [===========>..................] - ETA: 2s - loss: 1.8042"
     ]
    },
    {
     "name": "stdout",
     "output_type": "stream",
     "text": [
      "\b\b\b\b\b\b\b\b\b\b\b\b\b\b\b\b\b\b\b\b\b\b\b\b\b\b\b\b\b\b\b\b\b\b\b\b\b\b\b\b\b\b\b\b\b\b\b\b\b\b\b\b\b\b\b\b\b\b\b\b\b\b\b\b\b\r384/800 [=============>................] - ETA: 1s - loss: 1.7613"
     ]
    },
    {
     "name": "stdout",
     "output_type": "stream",
     "text": [
      "\b\b\b\b\b\b\b\b\b\b\b\b\b\b\b\b\b\b\b\b\b\b\b\b\b\b\b\b\b\b\b\b\b\b\b\b\b\b\b\b\b\b\b\b\b\b\b\b\b\b\b\b\b\b\b\b\b\b\b\b\b\b\b\b\b\r448/800 [===============>..............] - ETA: 1s - loss: 1.7077"
     ]
    },
    {
     "name": "stdout",
     "output_type": "stream",
     "text": [
      "\b\b\b\b\b\b\b\b\b\b\b\b\b\b\b\b\b\b\b\b\b\b\b\b\b\b\b\b\b\b\b\b\b\b\b\b\b\b\b\b\b\b\b\b\b\b\b\b\b\b\b\b\b\b\b\b\b\b\b\b\b\b\b\b\b\r512/800 [==================>...........] - ETA: 1s - loss: 1.6811"
     ]
    },
    {
     "name": "stdout",
     "output_type": "stream",
     "text": [
      "\b\b\b\b\b\b\b\b\b\b\b\b\b\b\b\b\b\b\b\b\b\b\b\b\b\b\b\b\b\b\b\b\b\b\b\b\b\b\b\b\b\b\b\b\b\b\b\b\b\b\b\b\b\b\b\b\b\b\b\b\b\b\b\b\b\r576/800 [====================>.........] - ETA: 0s - loss: 1.6494"
     ]
    },
    {
     "name": "stdout",
     "output_type": "stream",
     "text": [
      "\b\b\b\b\b\b\b\b\b\b\b\b\b\b\b\b\b\b\b\b\b\b\b\b\b\b\b\b\b\b\b\b\b\b\b\b\b\b\b\b\b\b\b\b\b\b\b\b\b\b\b\b\b\b\b\b\b\b\b\b\b\b\b\b\b\r640/800 [=======================>......] - ETA: 0s - loss: 1.6328"
     ]
    },
    {
     "name": "stdout",
     "output_type": "stream",
     "text": [
      "\b\b\b\b\b\b\b\b\b\b\b\b\b\b\b\b\b\b\b\b\b\b\b\b\b\b\b\b\b\b\b\b\b\b\b\b\b\b\b\b\b\b\b\b\b\b\b\b\b\b\b\b\b\b\b\b\b\b\b\b\b\b\b\b\b\r704/800 [=========================>....] - ETA: 0s - loss: 1.6153"
     ]
    },
    {
     "name": "stdout",
     "output_type": "stream",
     "text": [
      "\b\b\b\b\b\b\b\b\b\b\b\b\b\b\b\b\b\b\b\b\b\b\b\b\b\b\b\b\b\b\b\b\b\b\b\b\b\b\b\b\b\b\b\b\b\b\b\b\b\b\b\b\b\b\b\b\b\b\b\b\b\b\b\b\b\r768/800 [===========================>..] - ETA: 0s - loss: 1.5888"
     ]
    },
    {
     "name": "stdout",
     "output_type": "stream",
     "text": [
      "\b\b\b\b\b\b\b\b\b\b\b\b\b\b\b\b\b\b\b\b\b\b\b\b\b\b\b\b\b\b\b\b\b\b\b\b\b\b\b\b\b\b\b\b\b\b\b\b\b\b\b\b\b\b\b\b\b\b\b\b\b\b\b\b\b\r800/800 [==============================] - 2s 3ms/step - loss: 1.5812 - val_loss: 1.5979\n"
     ]
    },
    {
     "name": "stdout",
     "output_type": "stream",
     "text": [
      "Epoch 2/20\n\r 64/800 [=>............................] - ETA: 1s - loss: 1.3685"
     ]
    },
    {
     "name": "stdout",
     "output_type": "stream",
     "text": [
      "\b\b\b\b\b\b\b\b\b\b\b\b\b\b\b\b\b\b\b\b\b\b\b\b\b\b\b\b\b\b\b\b\b\b\b\b\b\b\b\b\b\b\b\b\b\b\b\b\b\b\b\b\b\b\b\b\b\b\b\b\b\b\b\b\b\r128/800 [===>..........................] - ETA: 1s - loss: 1.4476"
     ]
    },
    {
     "name": "stdout",
     "output_type": "stream",
     "text": [
      "\b\b\b\b\b\b\b\b\b\b\b\b\b\b\b\b\b\b\b\b\b\b\b\b\b\b\b\b\b\b\b\b\b\b\b\b\b\b\b\b\b\b\b\b\b\b\b\b\b\b\b\b\b\b\b\b\b\b\b\b\b\b\b\b\b\r192/800 [======>.......................] - ETA: 0s - loss: 1.4085"
     ]
    },
    {
     "name": "stdout",
     "output_type": "stream",
     "text": [
      "\b\b\b\b\b\b\b\b\b\b\b\b\b\b\b\b\b\b\b\b\b\b\b\b\b\b\b\b\b\b\b\b\b\b\b\b\b\b\b\b\b\b\b\b\b\b\b\b\b\b\b\b\b\b\b\b\b\b\b\b\b\b\b\b\b\r256/800 [========>.....................] - ETA: 0s - loss: 1.3717"
     ]
    },
    {
     "name": "stdout",
     "output_type": "stream",
     "text": [
      "\b\b\b\b\b\b\b\b\b\b\b\b\b\b\b\b\b\b\b\b\b\b\b\b\b\b\b\b\b\b\b\b\b\b\b\b\b\b\b\b\b\b\b\b\b\b\b\b\b\b\b\b\b\b\b\b\b\b\b\b\b\b\b\b\b\r320/800 [===========>..................] - ETA: 0s - loss: 1.3568"
     ]
    },
    {
     "name": "stdout",
     "output_type": "stream",
     "text": [
      "\b\b\b\b\b\b\b\b\b\b\b\b\b\b\b\b\b\b\b\b\b\b\b\b\b\b\b\b\b\b\b\b\b\b\b\b\b\b\b\b\b\b\b\b\b\b\b\b\b\b\b\b\b\b\b\b\b\b\b\b\b\b\b\b\b\r384/800 [=============>................] - ETA: 0s - loss: 1.3614"
     ]
    },
    {
     "name": "stdout",
     "output_type": "stream",
     "text": [
      "\b\b\b\b\b\b\b\b\b\b\b\b\b\b\b\b\b\b\b\b\b\b\b\b\b\b\b\b\b\b\b\b\b\b\b\b\b\b\b\b\b\b\b\b\b\b\b\b\b\b\b\b\b\b\b\b\b\b\b\b\b\b\b\b\b\r448/800 [===============>..............] - ETA: 0s - loss: 1.3486"
     ]
    },
    {
     "name": "stdout",
     "output_type": "stream",
     "text": [
      "\b\b\b\b\b\b\b\b\b\b\b\b\b\b\b\b\b\b\b\b\b\b\b\b\b\b\b\b\b\b\b\b\b\b\b\b\b\b\b\b\b\b\b\b\b\b\b\b\b\b\b\b\b\b\b\b\b\b\b\b\b\b\b\b\b\r512/800 [==================>...........] - ETA: 0s - loss: 1.3555"
     ]
    },
    {
     "name": "stdout",
     "output_type": "stream",
     "text": [
      "\b\b\b\b\b\b\b\b\b\b\b\b\b\b\b\b\b\b\b\b\b\b\b\b\b\b\b\b\b\b\b\b\b\b\b\b\b\b\b\b\b\b\b\b\b\b\b\b\b\b\b\b\b\b\b\b\b\b\b\b\b\b\b\b\b\r576/800 [====================>.........] - ETA: 0s - loss: 1.3621"
     ]
    },
    {
     "name": "stdout",
     "output_type": "stream",
     "text": [
      "\b\b\b\b\b\b\b\b\b\b\b\b\b\b\b\b\b\b\b\b\b\b\b\b\b\b\b\b\b\b\b\b\b\b\b\b\b\b\b\b\b\b\b\b\b\b\b\b\b\b\b\b\b\b\b\b\b\b\b\b\b\b\b\b\b\r640/800 [=======================>......] - ETA: 0s - loss: 1.3677"
     ]
    },
    {
     "name": "stdout",
     "output_type": "stream",
     "text": [
      "\b\b\b\b\b\b\b\b\b\b\b\b\b\b\b\b\b\b\b\b\b\b\b\b\b\b\b\b\b\b\b\b\b\b\b\b\b\b\b\b\b\b\b\b\b\b\b\b\b\b\b\b\b\b\b\b\b\b\b\b\b\b\b\b\b\r704/800 [=========================>....] - ETA: 0s - loss: 1.3629"
     ]
    },
    {
     "name": "stdout",
     "output_type": "stream",
     "text": [
      "\b\b\b\b\b\b\b\b\b\b\b\b\b\b\b\b\b\b\b\b\b\b\b\b\b\b\b\b\b\b\b\b\b\b\b\b\b\b\b\b\b\b\b\b\b\b\b\b\b\b\b\b\b\b\b\b\b\b\b\b\b\b\b\b\b\r768/800 [===========================>..] - ETA: 0s - loss: 1.3592"
     ]
    },
    {
     "name": "stdout",
     "output_type": "stream",
     "text": [
      "\b\b\b\b\b\b\b\b\b\b\b\b\b\b\b\b\b\b\b\b\b\b\b\b\b\b\b\b\b\b\b\b\b\b\b\b\b\b\b\b\b\b\b\b\b\b\b\b\b\b\b\b\b\b\b\b\b\b\b\b\b\b\b\b\b\r800/800 [==============================] - 1s 2ms/step - loss: 1.3582 - val_loss: 1.5537\n"
     ]
    },
    {
     "name": "stdout",
     "output_type": "stream",
     "text": [
      "Epoch 3/20\n"
     ]
    },
    {
     "name": "stdout",
     "output_type": "stream",
     "text": [
      "\r 64/800 [=>............................] - ETA: 1s - loss: 1.2470"
     ]
    },
    {
     "name": "stdout",
     "output_type": "stream",
     "text": [
      "\b\b\b\b\b\b\b\b\b\b\b\b\b\b\b\b\b\b\b\b\b\b\b\b\b\b\b\b\b\b\b\b\b\b\b\b\b\b\b\b\b\b\b\b\b\b\b\b\b\b\b\b\b\b\b\b\b\b\b\b\b\b\b\b\b\r128/800 [===>..........................] - ETA: 0s - loss: 1.2477"
     ]
    },
    {
     "name": "stdout",
     "output_type": "stream",
     "text": [
      "\b\b\b\b\b\b\b\b\b\b\b\b\b\b\b\b\b\b\b\b\b\b\b\b\b\b\b\b\b\b\b\b\b\b\b\b\b\b\b\b\b\b\b\b\b\b\b\b\b\b\b\b\b\b\b\b\b\b\b\b\b\b\b\b\b\r192/800 [======>.......................] - ETA: 0s - loss: 1.2672"
     ]
    },
    {
     "name": "stdout",
     "output_type": "stream",
     "text": [
      "\b\b\b\b\b\b\b\b\b\b\b\b\b\b\b\b\b\b\b\b\b\b\b\b\b\b\b\b\b\b\b\b\b\b\b\b\b\b\b\b\b\b\b\b\b\b\b\b\b\b\b\b\b\b\b\b\b\b\b\b\b\b\b\b\b\r256/800 [========>.....................] - ETA: 0s - loss: 1.2845"
     ]
    },
    {
     "name": "stdout",
     "output_type": "stream",
     "text": [
      "\b\b\b\b\b\b\b\b\b\b\b\b\b\b\b\b\b\b\b\b\b\b\b\b\b\b\b\b\b\b\b\b\b\b\b\b\b\b\b\b\b\b\b\b\b\b\b\b\b\b\b\b\b\b\b\b\b\b\b\b\b\b\b\b\b\r320/800 [===========>..................] - ETA: 0s - loss: 1.2942"
     ]
    },
    {
     "name": "stdout",
     "output_type": "stream",
     "text": [
      "\b\b\b\b\b\b\b\b\b\b\b\b\b\b\b\b\b\b\b\b\b\b\b\b\b\b\b\b\b\b\b\b\b\b\b\b\b\b\b\b\b\b\b\b\b\b\b\b\b\b\b\b\b\b\b\b\b\b\b\b\b\b\b\b\b\r384/800 [=============>................] - ETA: 0s - loss: 1.3011"
     ]
    },
    {
     "name": "stdout",
     "output_type": "stream",
     "text": [
      "\b\b\b\b\b\b\b\b\b\b\b\b\b\b\b\b\b\b\b\b\b\b\b\b\b\b\b\b\b\b\b\b\b\b\b\b\b\b\b\b\b\b\b\b\b\b\b\b\b\b\b\b\b\b\b\b\b\b\b\b\b\b\b\b\b\r448/800 [===============>..............] - ETA: 0s - loss: 1.3013"
     ]
    },
    {
     "name": "stdout",
     "output_type": "stream",
     "text": [
      "\b\b\b\b\b\b\b\b\b\b\b\b\b\b\b\b\b\b\b\b\b\b\b\b\b\b\b\b\b\b\b\b\b\b\b\b\b\b\b\b\b\b\b\b\b\b\b\b\b\b\b\b\b\b\b\b\b\b\b\b\b\b\b\b\b\r512/800 [==================>...........] - ETA: 0s - loss: 1.3003"
     ]
    },
    {
     "name": "stdout",
     "output_type": "stream",
     "text": [
      "\b\b\b\b\b\b\b\b\b\b\b\b\b\b\b\b\b\b\b\b\b\b\b\b\b\b\b\b\b\b\b\b\b\b\b\b\b\b\b\b\b\b\b\b\b\b\b\b\b\b\b\b\b\b\b\b\b\b\b\b\b\b\b\b\b\r576/800 [====================>.........] - ETA: 0s - loss: 1.3043"
     ]
    },
    {
     "name": "stdout",
     "output_type": "stream",
     "text": [
      "\b\b\b\b\b\b\b\b\b\b\b\b\b\b\b\b\b\b\b\b\b\b\b\b\b\b\b\b\b\b\b\b\b\b\b\b\b\b\b\b\b\b\b\b\b\b\b\b\b\b\b\b\b\b\b\b\b\b\b\b\b\b\b\b\b\r640/800 [=======================>......] - ETA: 0s - loss: 1.3071"
     ]
    },
    {
     "name": "stdout",
     "output_type": "stream",
     "text": [
      "\b\b\b\b\b\b\b\b\b\b\b\b\b\b\b\b\b\b\b\b\b\b\b\b\b\b\b\b\b\b\b\b\b\b\b\b\b\b\b\b\b\b\b\b\b\b\b\b\b\b\b\b\b\b\b\b\b\b\b\b\b\b\b\b\b\r704/800 [=========================>....] - ETA: 0s - loss: 1.3150"
     ]
    },
    {
     "name": "stdout",
     "output_type": "stream",
     "text": [
      "\b\b\b\b\b\b\b\b\b\b\b\b\b\b\b\b\b\b\b\b\b\b\b\b\b\b\b\b\b\b\b\b\b\b\b\b\b\b\b\b\b\b\b\b\b\b\b\b\b\b\b\b\b\b\b\b\b\b\b\b\b\b\b\b\b\r768/800 [===========================>..] - ETA: 0s - loss: 1.3166"
     ]
    },
    {
     "name": "stdout",
     "output_type": "stream",
     "text": [
      "\b\b\b\b\b\b\b\b\b\b\b\b\b\b\b\b\b\b\b\b\b\b\b\b\b\b\b\b\b\b\b\b\b\b\b\b\b\b\b\b\b\b\b\b\b\b\b\b\b\b\b\b\b\b\b\b\b\b\b\b\b\b\b\b\b\r800/800 [==============================] - 1s 2ms/step - loss: 1.3137 - val_loss: 1.5127\n"
     ]
    },
    {
     "name": "stdout",
     "output_type": "stream",
     "text": [
      "Epoch 4/20\n"
     ]
    },
    {
     "name": "stdout",
     "output_type": "stream",
     "text": [
      "\r 64/800 [=>............................] - ETA: 1s - loss: 1.2381"
     ]
    },
    {
     "name": "stdout",
     "output_type": "stream",
     "text": [
      "\b\b\b\b\b\b\b\b\b\b\b\b\b\b\b\b\b\b\b\b\b\b\b\b\b\b\b\b\b\b\b\b\b\b\b\b\b\b\b\b\b\b\b\b\b\b\b\b\b\b\b\b\b\b\b\b\b\b\b\b\b\b\b\b\b\r128/800 [===>..........................] - ETA: 0s - loss: 1.3106"
     ]
    },
    {
     "name": "stdout",
     "output_type": "stream",
     "text": [
      "\b\b\b\b\b\b\b\b\b\b\b\b\b\b\b\b\b\b\b\b\b\b\b\b\b\b\b\b\b\b\b\b\b\b\b\b\b\b\b\b\b\b\b\b\b\b\b\b\b\b\b\b\b\b\b\b\b\b\b\b\b\b\b\b\b\r192/800 [======>.......................] - ETA: 0s - loss: 1.3250"
     ]
    },
    {
     "name": "stdout",
     "output_type": "stream",
     "text": [
      "\b\b\b\b\b\b\b\b\b\b\b\b\b\b\b\b\b\b\b\b\b\b\b\b\b\b\b\b\b\b\b\b\b\b\b\b\b\b\b\b\b\b\b\b\b\b\b\b\b\b\b\b\b\b\b\b\b\b\b\b\b\b\b\b\b\r256/800 [========>.....................] - ETA: 0s - loss: 1.3371"
     ]
    },
    {
     "name": "stdout",
     "output_type": "stream",
     "text": [
      "\b\b\b\b\b\b\b\b\b\b\b\b\b\b\b\b\b\b\b\b\b\b\b\b\b\b\b\b\b\b\b\b\b\b\b\b\b\b\b\b\b\b\b\b\b\b\b\b\b\b\b\b\b\b\b\b\b\b\b\b\b\b\b\b\b\r320/800 [===========>..................] - ETA: 0s - loss: 1.3177"
     ]
    },
    {
     "name": "stdout",
     "output_type": "stream",
     "text": [
      "\b\b\b\b\b\b\b\b\b\b\b\b\b\b\b\b\b\b\b\b\b\b\b\b\b\b\b\b\b\b\b\b\b\b\b\b\b\b\b\b\b\b\b\b\b\b\b\b\b\b\b\b\b\b\b\b\b\b\b\b\b\b\b\b\b\r384/800 [=============>................] - ETA: 0s - loss: 1.3053"
     ]
    },
    {
     "name": "stdout",
     "output_type": "stream",
     "text": [
      "\b\b\b\b\b\b\b\b\b\b\b\b\b\b\b\b\b\b\b\b\b\b\b\b\b\b\b\b\b\b\b\b\b\b\b\b\b\b\b\b\b\b\b\b\b\b\b\b\b\b\b\b\b\b\b\b\b\b\b\b\b\b\b\b\b\r448/800 [===============>..............] - ETA: 0s - loss: 1.2895"
     ]
    },
    {
     "name": "stdout",
     "output_type": "stream",
     "text": [
      "\b\b\b\b\b\b\b\b\b\b\b\b\b\b\b\b\b\b\b\b\b\b\b\b\b\b\b\b\b\b\b\b\b\b\b\b\b\b\b\b\b\b\b\b\b\b\b\b\b\b\b\b\b\b\b\b\b\b\b\b\b\b\b\b\b\r512/800 [==================>...........] - ETA: 0s - loss: 1.2793"
     ]
    },
    {
     "name": "stdout",
     "output_type": "stream",
     "text": [
      "\b\b\b\b\b\b\b\b\b\b\b\b\b\b\b\b\b\b\b\b\b\b\b\b\b\b\b\b\b\b\b\b\b\b\b\b\b\b\b\b\b\b\b\b\b\b\b\b\b\b\b\b\b\b\b\b\b\b\b\b\b\b\b\b\b\r576/800 [====================>.........] - ETA: 0s - loss: 1.2740"
     ]
    },
    {
     "name": "stdout",
     "output_type": "stream",
     "text": [
      "\b\b\b\b\b\b\b\b\b\b\b\b\b\b\b\b\b\b\b\b\b\b\b\b\b\b\b\b\b\b\b\b\b\b\b\b\b\b\b\b\b\b\b\b\b\b\b\b\b\b\b\b\b\b\b\b\b\b\b\b\b\b\b\b\b\r640/800 [=======================>......] - ETA: 0s - loss: 1.2737"
     ]
    },
    {
     "name": "stdout",
     "output_type": "stream",
     "text": [
      "\b\b\b\b\b\b\b\b\b\b\b\b\b\b\b\b\b\b\b\b\b\b\b\b\b\b\b\b\b\b\b\b\b\b\b\b\b\b\b\b\b\b\b\b\b\b\b\b\b\b\b\b\b\b\b\b\b\b\b\b\b\b\b\b\b\r704/800 [=========================>....] - ETA: 0s - loss: 1.2716"
     ]
    },
    {
     "name": "stdout",
     "output_type": "stream",
     "text": [
      "\b\b\b\b\b\b\b\b\b\b\b\b\b\b\b\b\b\b\b\b\b\b\b\b\b\b\b\b\b\b\b\b\b\b\b\b\b\b\b\b\b\b\b\b\b\b\b\b\b\b\b\b\b\b\b\b\b\b\b\b\b\b\b\b\b\r768/800 [===========================>..] - ETA: 0s - loss: 1.2741"
     ]
    },
    {
     "name": "stdout",
     "output_type": "stream",
     "text": [
      "\b\b\b\b\b\b\b\b\b\b\b\b\b\b\b\b\b\b\b\b\b\b\b\b\b\b\b\b\b\b\b\b\b\b\b\b\b\b\b\b\b\b\b\b\b\b\b\b\b\b\b\b\b\b\b\b\b\b\b\b\b\b\b\b\b\r800/800 [==============================] - 1s 2ms/step - loss: 1.2745 - val_loss: 1.4906\n"
     ]
    },
    {
     "name": "stdout",
     "output_type": "stream",
     "text": [
      "Epoch 5/20\n"
     ]
    },
    {
     "name": "stdout",
     "output_type": "stream",
     "text": [
      "\r 64/800 [=>............................] - ETA: 1s - loss: 1.2607"
     ]
    },
    {
     "name": "stdout",
     "output_type": "stream",
     "text": [
      "\b\b\b\b\b\b\b\b\b\b\b\b\b\b\b\b\b\b\b\b\b\b\b\b\b\b\b\b\b\b\b\b\b\b\b\b\b\b\b\b\b\b\b\b\b\b\b\b\b\b\b\b\b\b\b\b\b\b\b\b\b\b\b\b\b\r128/800 [===>..........................] - ETA: 0s - loss: 1.2642"
     ]
    },
    {
     "name": "stdout",
     "output_type": "stream",
     "text": [
      "\b\b\b\b\b\b\b\b\b\b\b\b\b\b\b\b\b\b\b\b\b\b\b\b\b\b\b\b\b\b\b\b\b\b\b\b\b\b\b\b\b\b\b\b\b\b\b\b\b\b\b\b\b\b\b\b\b\b\b\b\b\b\b\b\b\r192/800 [======>.......................] - ETA: 0s - loss: 1.2725"
     ]
    },
    {
     "name": "stdout",
     "output_type": "stream",
     "text": [
      "\b\b\b\b\b\b\b\b\b\b\b\b\b\b\b\b\b\b\b\b\b\b\b\b\b\b\b\b\b\b\b\b\b\b\b\b\b\b\b\b\b\b\b\b\b\b\b\b\b\b\b\b\b\b\b\b\b\b\b\b\b\b\b\b\b\r256/800 [========>.....................] - ETA: 0s - loss: 1.2771"
     ]
    },
    {
     "name": "stdout",
     "output_type": "stream",
     "text": [
      "\b\b\b\b\b\b\b\b\b\b\b\b\b\b\b\b\b\b\b\b\b\b\b\b\b\b\b\b\b\b\b\b\b\b\b\b\b\b\b\b\b\b\b\b\b\b\b\b\b\b\b\b\b\b\b\b\b\b\b\b\b\b\b\b\b\r320/800 [===========>..................] - ETA: 0s - loss: 1.2679"
     ]
    },
    {
     "name": "stdout",
     "output_type": "stream",
     "text": [
      "\b\b\b\b\b\b\b\b\b\b\b\b\b\b\b\b\b\b\b\b\b\b\b\b\b\b\b\b\b\b\b\b\b\b\b\b\b\b\b\b\b\b\b\b\b\b\b\b\b\b\b\b\b\b\b\b\b\b\b\b\b\b\b\b\b\r384/800 [=============>................] - ETA: 0s - loss: 1.2658"
     ]
    },
    {
     "name": "stdout",
     "output_type": "stream",
     "text": [
      "\b\b\b\b\b\b\b\b\b\b\b\b\b\b\b\b\b\b\b\b\b\b\b\b\b\b\b\b\b\b\b\b\b\b\b\b\b\b\b\b\b\b\b\b\b\b\b\b\b\b\b\b\b\b\b\b\b\b\b\b\b\b\b\b\b\r448/800 [===============>..............] - ETA: 0s - loss: 1.2627"
     ]
    },
    {
     "name": "stdout",
     "output_type": "stream",
     "text": [
      "\b\b\b\b\b\b\b\b\b\b\b\b\b\b\b\b\b\b\b\b\b\b\b\b\b\b\b\b\b\b\b\b\b\b\b\b\b\b\b\b\b\b\b\b\b\b\b\b\b\b\b\b\b\b\b\b\b\b\b\b\b\b\b\b\b\r512/800 [==================>...........] - ETA: 0s - loss: 1.2658"
     ]
    },
    {
     "name": "stdout",
     "output_type": "stream",
     "text": [
      "\b\b\b\b\b\b\b\b\b\b\b\b\b\b\b\b\b\b\b\b\b\b\b\b\b\b\b\b\b\b\b\b\b\b\b\b\b\b\b\b\b\b\b\b\b\b\b\b\b\b\b\b\b\b\b\b\b\b\b\b\b\b\b\b\b\r576/800 [====================>.........] - ETA: 0s - loss: 1.2559"
     ]
    },
    {
     "name": "stdout",
     "output_type": "stream",
     "text": [
      "\b\b\b\b\b\b\b\b\b\b\b\b\b\b\b\b\b\b\b\b\b\b\b\b\b\b\b\b\b\b\b\b\b\b\b\b\b\b\b\b\b\b\b\b\b\b\b\b\b\b\b\b\b\b\b\b\b\b\b\b\b\b\b\b\b\r640/800 [=======================>......] - ETA: 0s - loss: 1.2539"
     ]
    },
    {
     "name": "stdout",
     "output_type": "stream",
     "text": [
      "\b\b\b\b\b\b\b\b\b\b\b\b\b\b\b\b\b\b\b\b\b\b\b\b\b\b\b\b\b\b\b\b\b\b\b\b\b\b\b\b\b\b\b\b\b\b\b\b\b\b\b\b\b\b\b\b\b\b\b\b\b\b\b\b\b\r704/800 [=========================>....] - ETA: 0s - loss: 1.2565"
     ]
    },
    {
     "name": "stdout",
     "output_type": "stream",
     "text": [
      "\b\b\b\b\b\b\b\b\b\b\b\b\b\b\b\b\b\b\b\b\b\b\b\b\b\b\b\b\b\b\b\b\b\b\b\b\b\b\b\b\b\b\b\b\b\b\b\b\b\b\b\b\b\b\b\b\b\b\b\b\b\b\b\b\b\r768/800 [===========================>..] - ETA: 0s - loss: 1.2514"
     ]
    },
    {
     "name": "stdout",
     "output_type": "stream",
     "text": [
      "\b\b\b\b\b\b\b\b\b\b\b\b\b\b\b\b\b\b\b\b\b\b\b\b\b\b\b\b\b\b\b\b\b\b\b\b\b\b\b\b\b\b\b\b\b\b\b\b\b\b\b\b\b\b\b\b\b\b\b\b\b\b\b\b\b\r800/800 [==============================] - 1s 1ms/step - loss: 1.2522 - val_loss: 1.4654\n"
     ]
    },
    {
     "name": "stdout",
     "output_type": "stream",
     "text": [
      "Epoch 6/20\n"
     ]
    },
    {
     "name": "stdout",
     "output_type": "stream",
     "text": [
      "\r 64/800 [=>............................] - ETA: 1s - loss: 1.2330"
     ]
    },
    {
     "name": "stdout",
     "output_type": "stream",
     "text": [
      "\b\b\b\b\b\b\b\b\b\b\b\b\b\b\b\b\b\b\b\b\b\b\b\b\b\b\b\b\b\b\b\b\b\b\b\b\b\b\b\b\b\b\b\b\b\b\b\b\b\b\b\b\b\b\b\b\b\b\b\b\b\b\b\b\b\r128/800 [===>..........................] - ETA: 0s - loss: 1.2441"
     ]
    },
    {
     "name": "stdout",
     "output_type": "stream",
     "text": [
      "\b\b\b\b\b\b\b\b\b\b\b\b\b\b\b\b\b\b\b\b\b\b\b\b\b\b\b\b\b\b\b\b\b\b\b\b\b\b\b\b\b\b\b\b\b\b\b\b\b\b\b\b\b\b\b\b\b\b\b\b\b\b\b\b\b\r192/800 [======>.......................] - ETA: 0s - loss: 1.2559"
     ]
    },
    {
     "name": "stdout",
     "output_type": "stream",
     "text": [
      "\b\b\b\b\b\b\b\b\b\b\b\b\b\b\b\b\b\b\b\b\b\b\b\b\b\b\b\b\b\b\b\b\b\b\b\b\b\b\b\b\b\b\b\b\b\b\b\b\b\b\b\b\b\b\b\b\b\b\b\b\b\b\b\b\b\r256/800 [========>.....................] - ETA: 0s - loss: 1.2596"
     ]
    },
    {
     "name": "stdout",
     "output_type": "stream",
     "text": [
      "\b\b\b\b\b\b\b\b\b\b\b\b\b\b\b\b\b\b\b\b\b\b\b\b\b\b\b\b\b\b\b\b\b\b\b\b\b\b\b\b\b\b\b\b\b\b\b\b\b\b\b\b\b\b\b\b\b\b\b\b\b\b\b\b\b\r320/800 [===========>..................] - ETA: 0s - loss: 1.2549"
     ]
    },
    {
     "name": "stdout",
     "output_type": "stream",
     "text": [
      "\b\b\b\b\b\b\b\b\b\b\b\b\b\b\b\b\b\b\b\b\b\b\b\b\b\b\b\b\b\b\b\b\b\b\b\b\b\b\b\b\b\b\b\b\b\b\b\b\b\b\b\b\b\b\b\b\b\b\b\b\b\b\b\b\b\r384/800 [=============>................] - ETA: 0s - loss: 1.2413"
     ]
    },
    {
     "name": "stdout",
     "output_type": "stream",
     "text": [
      "\b\b\b\b\b\b\b\b\b\b\b\b\b\b\b\b\b\b\b\b\b\b\b\b\b\b\b\b\b\b\b\b\b\b\b\b\b\b\b\b\b\b\b\b\b\b\b\b\b\b\b\b\b\b\b\b\b\b\b\b\b\b\b\b\b\r448/800 [===============>..............] - ETA: 0s - loss: 1.2372"
     ]
    },
    {
     "name": "stdout",
     "output_type": "stream",
     "text": [
      "\b\b\b\b\b\b\b\b\b\b\b\b\b\b\b\b\b\b\b\b\b\b\b\b\b\b\b\b\b\b\b\b\b\b\b\b\b\b\b\b\b\b\b\b\b\b\b\b\b\b\b\b\b\b\b\b\b\b\b\b\b\b\b\b\b\r512/800 [==================>...........] - ETA: 0s - loss: 1.2379"
     ]
    },
    {
     "name": "stdout",
     "output_type": "stream",
     "text": [
      "\b\b\b\b\b\b\b\b\b\b\b\b\b\b\b\b\b\b\b\b\b\b\b\b\b\b\b\b\b\b\b\b\b\b\b\b\b\b\b\b\b\b\b\b\b\b\b\b\b\b\b\b\b\b\b\b\b\b\b\b\b\b\b\b\b\r576/800 [====================>.........] - ETA: 0s - loss: 1.2416"
     ]
    },
    {
     "name": "stdout",
     "output_type": "stream",
     "text": [
      "\b\b\b\b\b\b\b\b\b\b\b\b\b\b\b\b\b\b\b\b\b\b\b\b\b\b\b\b\b\b\b\b\b\b\b\b\b\b\b\b\b\b\b\b\b\b\b\b\b\b\b\b\b\b\b\b\b\b\b\b\b\b\b\b\b\r640/800 [=======================>......] - ETA: 0s - loss: 1.2374"
     ]
    },
    {
     "name": "stdout",
     "output_type": "stream",
     "text": [
      "\b\b\b\b\b\b\b\b\b\b\b\b\b\b\b\b\b\b\b\b\b\b\b\b\b\b\b\b\b\b\b\b\b\b\b\b\b\b\b\b\b\b\b\b\b\b\b\b\b\b\b\b\b\b\b\b\b\b\b\b\b\b\b\b\b\r704/800 [=========================>....] - ETA: 0s - loss: 1.2369"
     ]
    },
    {
     "name": "stdout",
     "output_type": "stream",
     "text": [
      "\b\b\b\b\b\b\b\b\b\b\b\b\b\b\b\b\b\b\b\b\b\b\b\b\b\b\b\b\b\b\b\b\b\b\b\b\b\b\b\b\b\b\b\b\b\b\b\b\b\b\b\b\b\b\b\b\b\b\b\b\b\b\b\b\b\r768/800 [===========================>..] - ETA: 0s - loss: 1.2284"
     ]
    },
    {
     "name": "stdout",
     "output_type": "stream",
     "text": [
      "\b\b\b\b\b\b\b\b\b\b\b\b\b\b\b\b\b\b\b\b\b\b\b\b\b\b\b\b\b\b\b\b\b\b\b\b\b\b\b\b\b\b\b\b\b\b\b\b\b\b\b\b\b\b\b\b\b\b\b\b\b\b\b\b\b\r800/800 [==============================] - 1s 2ms/step - loss: 1.2299 - val_loss: 1.4491\n"
     ]
    },
    {
     "name": "stdout",
     "output_type": "stream",
     "text": [
      "Epoch 7/20\n"
     ]
    },
    {
     "name": "stdout",
     "output_type": "stream",
     "text": [
      "\r 64/800 [=>............................] - ETA: 1s - loss: 1.1962"
     ]
    },
    {
     "name": "stdout",
     "output_type": "stream",
     "text": [
      "\b\b\b\b\b\b\b\b\b\b\b\b\b\b\b\b\b\b\b\b\b\b\b\b\b\b\b\b\b\b\b\b\b\b\b\b\b\b\b\b\b\b\b\b\b\b\b\b\b\b\b\b\b\b\b\b\b\b\b\b\b\b\b\b\b\r128/800 [===>..........................] - ETA: 0s - loss: 1.2070"
     ]
    },
    {
     "name": "stdout",
     "output_type": "stream",
     "text": [
      "\b\b\b\b\b\b\b\b\b\b\b\b\b\b\b\b\b\b\b\b\b\b\b\b\b\b\b\b\b\b\b\b\b\b\b\b\b\b\b\b\b\b\b\b\b\b\b\b\b\b\b\b\b\b\b\b\b\b\b\b\b\b\b\b\b\r192/800 [======>.......................] - ETA: 0s - loss: 1.2219"
     ]
    },
    {
     "name": "stdout",
     "output_type": "stream",
     "text": [
      "\b\b\b\b\b\b\b\b\b\b\b\b\b\b\b\b\b\b\b\b\b\b\b\b\b\b\b\b\b\b\b\b\b\b\b\b\b\b\b\b\b\b\b\b\b\b\b\b\b\b\b\b\b\b\b\b\b\b\b\b\b\b\b\b\b\r256/800 [========>.....................] - ETA: 0s - loss: 1.2015"
     ]
    },
    {
     "name": "stdout",
     "output_type": "stream",
     "text": [
      "\b\b\b\b\b\b\b\b\b\b\b\b\b\b\b\b\b\b\b\b\b\b\b\b\b\b\b\b\b\b\b\b\b\b\b\b\b\b\b\b\b\b\b\b\b\b\b\b\b\b\b\b\b\b\b\b\b\b\b\b\b\b\b\b\b\r320/800 [===========>..................] - ETA: 0s - loss: 1.1917"
     ]
    },
    {
     "name": "stdout",
     "output_type": "stream",
     "text": [
      "\b\b\b\b\b\b\b\b\b\b\b\b\b\b\b\b\b\b\b\b\b\b\b\b\b\b\b\b\b\b\b\b\b\b\b\b\b\b\b\b\b\b\b\b\b\b\b\b\b\b\b\b\b\b\b\b\b\b\b\b\b\b\b\b\b\r384/800 [=============>................] - ETA: 0s - loss: 1.1951"
     ]
    },
    {
     "name": "stdout",
     "output_type": "stream",
     "text": [
      "\b\b\b\b\b\b\b\b\b\b\b\b\b\b\b\b\b\b\b\b\b\b\b\b\b\b\b\b\b\b\b\b\b\b\b\b\b\b\b\b\b\b\b\b\b\b\b\b\b\b\b\b\b\b\b\b\b\b\b\b\b\b\b\b\b\r448/800 [===============>..............] - ETA: 0s - loss: 1.1861"
     ]
    },
    {
     "name": "stdout",
     "output_type": "stream",
     "text": [
      "\b\b\b\b\b\b\b\b\b\b\b\b\b\b\b\b\b\b\b\b\b\b\b\b\b\b\b\b\b\b\b\b\b\b\b\b\b\b\b\b\b\b\b\b\b\b\b\b\b\b\b\b\b\b\b\b\b\b\b\b\b\b\b\b\b\r512/800 [==================>...........] - ETA: 0s - loss: 1.1890"
     ]
    },
    {
     "name": "stdout",
     "output_type": "stream",
     "text": [
      "\b\b\b\b\b\b\b\b\b\b\b\b\b\b\b\b\b\b\b\b\b\b\b\b\b\b\b\b\b\b\b\b\b\b\b\b\b\b\b\b\b\b\b\b\b\b\b\b\b\b\b\b\b\b\b\b\b\b\b\b\b\b\b\b\b\r576/800 [====================>.........] - ETA: 0s - loss: 1.1927"
     ]
    },
    {
     "name": "stdout",
     "output_type": "stream",
     "text": [
      "\b\b\b\b\b\b\b\b\b\b\b\b\b\b\b\b\b\b\b\b\b\b\b\b\b\b\b\b\b\b\b\b\b\b\b\b\b\b\b\b\b\b\b\b\b\b\b\b\b\b\b\b\b\b\b\b\b\b\b\b\b\b\b\b\b\r640/800 [=======================>......] - ETA: 0s - loss: 1.1915"
     ]
    },
    {
     "name": "stdout",
     "output_type": "stream",
     "text": [
      "\b\b\b\b\b\b\b\b\b\b\b\b\b\b\b\b\b\b\b\b\b\b\b\b\b\b\b\b\b\b\b\b\b\b\b\b\b\b\b\b\b\b\b\b\b\b\b\b\b\b\b\b\b\b\b\b\b\b\b\b\b\b\b\b\b\r704/800 [=========================>....] - ETA: 0s - loss: 1.1914"
     ]
    },
    {
     "name": "stdout",
     "output_type": "stream",
     "text": [
      "\b\b\b\b\b\b\b\b\b\b\b\b\b\b\b\b\b\b\b\b\b\b\b\b\b\b\b\b\b\b\b\b\b\b\b\b\b\b\b\b\b\b\b\b\b\b\b\b\b\b\b\b\b\b\b\b\b\b\b\b\b\b\b\b\b\r768/800 [===========================>..] - ETA: 0s - loss: 1.1963"
     ]
    },
    {
     "name": "stdout",
     "output_type": "stream",
     "text": [
      "\b\b\b\b\b\b\b\b\b\b\b\b\b\b\b\b\b\b\b\b\b\b\b\b\b\b\b\b\b\b\b\b\b\b\b\b\b\b\b\b\b\b\b\b\b\b\b\b\b\b\b\b\b\b\b\b\b\b\b\b\b\b\b\b\b\r800/800 [==============================] - 1s 2ms/step - loss: 1.1977 - val_loss: 1.4313\n"
     ]
    },
    {
     "name": "stdout",
     "output_type": "stream",
     "text": [
      "Epoch 8/20\n"
     ]
    },
    {
     "name": "stdout",
     "output_type": "stream",
     "text": [
      "\r 64/800 [=>............................] - ETA: 1s - loss: 1.1431"
     ]
    },
    {
     "name": "stdout",
     "output_type": "stream",
     "text": [
      "\b\b\b\b\b\b\b\b\b\b\b\b\b\b\b\b\b\b\b\b\b\b\b\b\b\b\b\b\b\b\b\b\b\b\b\b\b\b\b\b\b\b\b\b\b\b\b\b\b\b\b\b\b\b\b\b\b\b\b\b\b\b\b\b\b\r128/800 [===>..........................] - ETA: 1s - loss: 1.1491"
     ]
    },
    {
     "name": "stdout",
     "output_type": "stream",
     "text": [
      "\b\b\b\b\b\b\b\b\b\b\b\b\b\b\b\b\b\b\b\b\b\b\b\b\b\b\b\b\b\b\b\b\b\b\b\b\b\b\b\b\b\b\b\b\b\b\b\b\b\b\b\b\b\b\b\b\b\b\b\b\b\b\b\b\b\r192/800 [======>.......................] - ETA: 0s - loss: 1.1469"
     ]
    },
    {
     "name": "stdout",
     "output_type": "stream",
     "text": [
      "\b\b\b\b\b\b\b\b\b\b\b\b\b\b\b\b\b\b\b\b\b\b\b\b\b\b\b\b\b\b\b\b\b\b\b\b\b\b\b\b\b\b\b\b\b\b\b\b\b\b\b\b\b\b\b\b\b\b\b\b\b\b\b\b\b\r256/800 [========>.....................] - ETA: 0s - loss: 1.1562"
     ]
    },
    {
     "name": "stdout",
     "output_type": "stream",
     "text": [
      "\b\b\b\b\b\b\b\b\b\b\b\b\b\b\b\b\b\b\b\b\b\b\b\b\b\b\b\b\b\b\b\b\b\b\b\b\b\b\b\b\b\b\b\b\b\b\b\b\b\b\b\b\b\b\b\b\b\b\b\b\b\b\b\b\b\r320/800 [===========>..................] - ETA: 0s - loss: 1.1752"
     ]
    },
    {
     "name": "stdout",
     "output_type": "stream",
     "text": [
      "\b\b\b\b\b\b\b\b\b\b\b\b\b\b\b\b\b\b\b\b\b\b\b\b\b\b\b\b\b\b\b\b\b\b\b\b\b\b\b\b\b\b\b\b\b\b\b\b\b\b\b\b\b\b\b\b\b\b\b\b\b\b\b\b\b\r384/800 [=============>................] - ETA: 0s - loss: 1.1763"
     ]
    },
    {
     "name": "stdout",
     "output_type": "stream",
     "text": [
      "\b\b\b\b\b\b\b\b\b\b\b\b\b\b\b\b\b\b\b\b\b\b\b\b\b\b\b\b\b\b\b\b\b\b\b\b\b\b\b\b\b\b\b\b\b\b\b\b\b\b\b\b\b\b\b\b\b\b\b\b\b\b\b\b\b\r448/800 [===============>..............] - ETA: 0s - loss: 1.1792"
     ]
    },
    {
     "name": "stdout",
     "output_type": "stream",
     "text": [
      "\b\b\b\b\b\b\b\b\b\b\b\b\b\b\b\b\b\b\b\b\b\b\b\b\b\b\b\b\b\b\b\b\b\b\b\b\b\b\b\b\b\b\b\b\b\b\b\b\b\b\b\b\b\b\b\b\b\b\b\b\b\b\b\b\b\r512/800 [==================>...........] - ETA: 0s - loss: 1.1806"
     ]
    },
    {
     "name": "stdout",
     "output_type": "stream",
     "text": [
      "\b\b\b\b\b\b\b\b\b\b\b\b\b\b\b\b\b\b\b\b\b\b\b\b\b\b\b\b\b\b\b\b\b\b\b\b\b\b\b\b\b\b\b\b\b\b\b\b\b\b\b\b\b\b\b\b\b\b\b\b\b\b\b\b\b\r576/800 [====================>.........] - ETA: 0s - loss: 1.1812"
     ]
    },
    {
     "name": "stdout",
     "output_type": "stream",
     "text": [
      "\b\b\b\b\b\b\b\b\b\b\b\b\b\b\b\b\b\b\b\b\b\b\b\b\b\b\b\b\b\b\b\b\b\b\b\b\b\b\b\b\b\b\b\b\b\b\b\b\b\b\b\b\b\b\b\b\b\b\b\b\b\b\b\b\b\r640/800 [=======================>......] - ETA: 0s - loss: 1.1843"
     ]
    },
    {
     "name": "stdout",
     "output_type": "stream",
     "text": [
      "\b\b\b\b\b\b\b\b\b\b\b\b\b\b\b\b\b\b\b\b\b\b\b\b\b\b\b\b\b\b\b\b\b\b\b\b\b\b\b\b\b\b\b\b\b\b\b\b\b\b\b\b\b\b\b\b\b\b\b\b\b\b\b\b\b\r704/800 [=========================>....] - ETA: 0s - loss: 1.1831"
     ]
    },
    {
     "name": "stdout",
     "output_type": "stream",
     "text": [
      "\b\b\b\b\b\b\b\b\b\b\b\b\b\b\b\b\b\b\b\b\b\b\b\b\b\b\b\b\b\b\b\b\b\b\b\b\b\b\b\b\b\b\b\b\b\b\b\b\b\b\b\b\b\b\b\b\b\b\b\b\b\b\b\b\b\r768/800 [===========================>..] - ETA: 0s - loss: 1.1820"
     ]
    },
    {
     "name": "stdout",
     "output_type": "stream",
     "text": [
      "\b\b\b\b\b\b\b\b\b\b\b\b\b\b\b\b\b\b\b\b\b\b\b\b\b\b\b\b\b\b\b\b\b\b\b\b\b\b\b\b\b\b\b\b\b\b\b\b\b\b\b\b\b\b\b\b\b\b\b\b\b\b\b\b\b\r800/800 [==============================] - 1s 2ms/step - loss: 1.1813 - val_loss: 1.3913\n"
     ]
    },
    {
     "name": "stdout",
     "output_type": "stream",
     "text": [
      "Epoch 9/20\n"
     ]
    },
    {
     "name": "stdout",
     "output_type": "stream",
     "text": [
      "\r 64/800 [=>............................] - ETA: 1s - loss: 1.1390"
     ]
    },
    {
     "name": "stdout",
     "output_type": "stream",
     "text": [
      "\b\b\b\b\b\b\b\b\b\b\b\b\b\b\b\b\b\b\b\b\b\b\b\b\b\b\b\b\b\b\b\b\b\b\b\b\b\b\b\b\b\b\b\b\b\b\b\b\b\b\b\b\b\b\b\b\b\b\b\b\b\b\b\b\b\r128/800 [===>..........................] - ETA: 1s - loss: 1.1395"
     ]
    },
    {
     "name": "stdout",
     "output_type": "stream",
     "text": [
      "\b\b\b\b\b\b\b\b\b\b\b\b\b\b\b\b\b\b\b\b\b\b\b\b\b\b\b\b\b\b\b\b\b\b\b\b\b\b\b\b\b\b\b\b\b\b\b\b\b\b\b\b\b\b\b\b\b\b\b\b\b\b\b\b\b\r192/800 [======>.......................] - ETA: 0s - loss: 1.1517"
     ]
    },
    {
     "name": "stdout",
     "output_type": "stream",
     "text": [
      "\b\b\b\b\b\b\b\b\b\b\b\b\b\b\b\b\b\b\b\b\b\b\b\b\b\b\b\b\b\b\b\b\b\b\b\b\b\b\b\b\b\b\b\b\b\b\b\b\b\b\b\b\b\b\b\b\b\b\b\b\b\b\b\b\b\r256/800 [========>.....................] - ETA: 0s - loss: 1.1490"
     ]
    },
    {
     "name": "stdout",
     "output_type": "stream",
     "text": [
      "\b\b\b\b\b\b\b\b\b\b\b\b\b\b\b\b\b\b\b\b\b\b\b\b\b\b\b\b\b\b\b\b\b\b\b\b\b\b\b\b\b\b\b\b\b\b\b\b\b\b\b\b\b\b\b\b\b\b\b\b\b\b\b\b\b\r320/800 [===========>..................] - ETA: 0s - loss: 1.1499"
     ]
    },
    {
     "name": "stdout",
     "output_type": "stream",
     "text": [
      "\b\b\b\b\b\b\b\b\b\b\b\b\b\b\b\b\b\b\b\b\b\b\b\b\b\b\b\b\b\b\b\b\b\b\b\b\b\b\b\b\b\b\b\b\b\b\b\b\b\b\b\b\b\b\b\b\b\b\b\b\b\b\b\b\b\r384/800 [=============>................] - ETA: 0s - loss: 1.1472"
     ]
    },
    {
     "name": "stdout",
     "output_type": "stream",
     "text": [
      "\b\b\b\b\b\b\b\b\b\b\b\b\b\b\b\b\b\b\b\b\b\b\b\b\b\b\b\b\b\b\b\b\b\b\b\b\b\b\b\b\b\b\b\b\b\b\b\b\b\b\b\b\b\b\b\b\b\b\b\b\b\b\b\b\b\r448/800 [===============>..............] - ETA: 0s - loss: 1.1532"
     ]
    },
    {
     "name": "stdout",
     "output_type": "stream",
     "text": [
      "\b\b\b\b\b\b\b\b\b\b\b\b\b\b\b\b\b\b\b\b\b\b\b\b\b\b\b\b\b\b\b\b\b\b\b\b\b\b\b\b\b\b\b\b\b\b\b\b\b\b\b\b\b\b\b\b\b\b\b\b\b\b\b\b\b\r512/800 [==================>...........] - ETA: 0s - loss: 1.1566"
     ]
    },
    {
     "name": "stdout",
     "output_type": "stream",
     "text": [
      "\b\b\b\b\b\b\b\b\b\b\b\b\b\b\b\b\b\b\b\b\b\b\b\b\b\b\b\b\b\b\b\b\b\b\b\b\b\b\b\b\b\b\b\b\b\b\b\b\b\b\b\b\b\b\b\b\b\b\b\b\b\b\b\b\b\r576/800 [====================>.........] - ETA: 0s - loss: 1.1629"
     ]
    },
    {
     "name": "stdout",
     "output_type": "stream",
     "text": [
      "\b\b\b\b\b\b\b\b\b\b\b\b\b\b\b\b\b\b\b\b\b\b\b\b\b\b\b\b\b\b\b\b\b\b\b\b\b\b\b\b\b\b\b\b\b\b\b\b\b\b\b\b\b\b\b\b\b\b\b\b\b\b\b\b\b\r640/800 [=======================>......] - ETA: 0s - loss: 1.1674"
     ]
    },
    {
     "name": "stdout",
     "output_type": "stream",
     "text": [
      "\b\b\b\b\b\b\b\b\b\b\b\b\b\b\b\b\b\b\b\b\b\b\b\b\b\b\b\b\b\b\b\b\b\b\b\b\b\b\b\b\b\b\b\b\b\b\b\b\b\b\b\b\b\b\b\b\b\b\b\b\b\b\b\b\b\r704/800 [=========================>....] - ETA: 0s - loss: 1.1656"
     ]
    },
    {
     "name": "stdout",
     "output_type": "stream",
     "text": [
      "\b\b\b\b\b\b\b\b\b\b\b\b\b\b\b\b\b\b\b\b\b\b\b\b\b\b\b\b\b\b\b\b\b\b\b\b\b\b\b\b\b\b\b\b\b\b\b\b\b\b\b\b\b\b\b\b\b\b\b\b\b\b\b\b\b\r768/800 [===========================>..] - ETA: 0s - loss: 1.1518"
     ]
    },
    {
     "name": "stdout",
     "output_type": "stream",
     "text": [
      "\b\b\b\b\b\b\b\b\b\b\b\b\b\b\b\b\b\b\b\b\b\b\b\b\b\b\b\b\b\b\b\b\b\b\b\b\b\b\b\b\b\b\b\b\b\b\b\b\b\b\b\b\b\b\b\b\b\b\b\b\b\b\b\b\b\r800/800 [==============================] - 1s 2ms/step - loss: 1.1472 - val_loss: 1.4148\n"
     ]
    },
    {
     "name": "stdout",
     "output_type": "stream",
     "text": [
      "Epoch 10/20\n"
     ]
    },
    {
     "name": "stdout",
     "output_type": "stream",
     "text": [
      "\r 64/800 [=>............................] - ETA: 1s - loss: 1.0983"
     ]
    },
    {
     "name": "stdout",
     "output_type": "stream",
     "text": [
      "\b\b\b\b\b\b\b\b\b\b\b\b\b\b\b\b\b\b\b\b\b\b\b\b\b\b\b\b\b\b\b\b\b\b\b\b\b\b\b\b\b\b\b\b\b\b\b\b\b\b\b\b\b\b\b\b\b\b\b\b\b\b\b\b\b\r128/800 [===>..........................] - ETA: 0s - loss: 1.1455"
     ]
    },
    {
     "name": "stdout",
     "output_type": "stream",
     "text": [
      "\b\b\b\b\b\b\b\b\b\b\b\b\b\b\b\b\b\b\b\b\b\b\b\b\b\b\b\b\b\b\b\b\b\b\b\b\b\b\b\b\b\b\b\b\b\b\b\b\b\b\b\b\b\b\b\b\b\b\b\b\b\b\b\b\b\r192/800 [======>.......................] - ETA: 0s - loss: 1.1488"
     ]
    },
    {
     "name": "stdout",
     "output_type": "stream",
     "text": [
      "\b\b\b\b\b\b\b\b\b\b\b\b\b\b\b\b\b\b\b\b\b\b\b\b\b\b\b\b\b\b\b\b\b\b\b\b\b\b\b\b\b\b\b\b\b\b\b\b\b\b\b\b\b\b\b\b\b\b\b\b\b\b\b\b\b\r256/800 [========>.....................] - ETA: 0s - loss: 1.1304"
     ]
    },
    {
     "name": "stdout",
     "output_type": "stream",
     "text": [
      "\b\b\b\b\b\b\b\b\b\b\b\b\b\b\b\b\b\b\b\b\b\b\b\b\b\b\b\b\b\b\b\b\b\b\b\b\b\b\b\b\b\b\b\b\b\b\b\b\b\b\b\b\b\b\b\b\b\b\b\b\b\b\b\b\b\r320/800 [===========>..................] - ETA: 0s - loss: 1.1324"
     ]
    },
    {
     "name": "stdout",
     "output_type": "stream",
     "text": [
      "\b\b\b\b\b\b\b\b\b\b\b\b\b\b\b\b\b\b\b\b\b\b\b\b\b\b\b\b\b\b\b\b\b\b\b\b\b\b\b\b\b\b\b\b\b\b\b\b\b\b\b\b\b\b\b\b\b\b\b\b\b\b\b\b\b\r384/800 [=============>................] - ETA: 0s - loss: 1.1263"
     ]
    },
    {
     "name": "stdout",
     "output_type": "stream",
     "text": [
      "\b\b\b\b\b\b\b\b\b\b\b\b\b\b\b\b\b\b\b\b\b\b\b\b\b\b\b\b\b\b\b\b\b\b\b\b\b\b\b\b\b\b\b\b\b\b\b\b\b\b\b\b\b\b\b\b\b\b\b\b\b\b\b\b\b\r448/800 [===============>..............] - ETA: 0s - loss: 1.1307"
     ]
    },
    {
     "name": "stdout",
     "output_type": "stream",
     "text": [
      "\b\b\b\b\b\b\b\b\b\b\b\b\b\b\b\b\b\b\b\b\b\b\b\b\b\b\b\b\b\b\b\b\b\b\b\b\b\b\b\b\b\b\b\b\b\b\b\b\b\b\b\b\b\b\b\b\b\b\b\b\b\b\b\b\b\r512/800 [==================>...........] - ETA: 0s - loss: 1.1217"
     ]
    },
    {
     "name": "stdout",
     "output_type": "stream",
     "text": [
      "\b\b\b\b\b\b\b\b\b\b\b\b\b\b\b\b\b\b\b\b\b\b\b\b\b\b\b\b\b\b\b\b\b\b\b\b\b\b\b\b\b\b\b\b\b\b\b\b\b\b\b\b\b\b\b\b\b\b\b\b\b\b\b\b\b\r576/800 [====================>.........] - ETA: 0s - loss: 1.1149"
     ]
    },
    {
     "name": "stdout",
     "output_type": "stream",
     "text": [
      "\b\b\b\b\b\b\b\b\b\b\b\b\b\b\b\b\b\b\b\b\b\b\b\b\b\b\b\b\b\b\b\b\b\b\b\b\b\b\b\b\b\b\b\b\b\b\b\b\b\b\b\b\b\b\b\b\b\b\b\b\b\b\b\b\b\r640/800 [=======================>......] - ETA: 0s - loss: 1.1145"
     ]
    },
    {
     "name": "stdout",
     "output_type": "stream",
     "text": [
      "\b\b\b\b\b\b\b\b\b\b\b\b\b\b\b\b\b\b\b\b\b\b\b\b\b\b\b\b\b\b\b\b\b\b\b\b\b\b\b\b\b\b\b\b\b\b\b\b\b\b\b\b\b\b\b\b\b\b\b\b\b\b\b\b\b\r704/800 [=========================>....] - ETA: 0s - loss: 1.1139"
     ]
    },
    {
     "name": "stdout",
     "output_type": "stream",
     "text": [
      "\b\b\b\b\b\b\b\b\b\b\b\b\b\b\b\b\b\b\b\b\b\b\b\b\b\b\b\b\b\b\b\b\b\b\b\b\b\b\b\b\b\b\b\b\b\b\b\b\b\b\b\b\b\b\b\b\b\b\b\b\b\b\b\b\b\r768/800 [===========================>..] - ETA: 0s - loss: 1.1137"
     ]
    },
    {
     "name": "stdout",
     "output_type": "stream",
     "text": [
      "\b\b\b\b\b\b\b\b\b\b\b\b\b\b\b\b\b\b\b\b\b\b\b\b\b\b\b\b\b\b\b\b\b\b\b\b\b\b\b\b\b\b\b\b\b\b\b\b\b\b\b\b\b\b\b\b\b\b\b\b\b\b\b\b\b\r800/800 [==============================] - 1s 2ms/step - loss: 1.1150 - val_loss: 1.3485\n"
     ]
    },
    {
     "name": "stdout",
     "output_type": "stream",
     "text": [
      "Epoch 11/20\n"
     ]
    },
    {
     "name": "stdout",
     "output_type": "stream",
     "text": [
      "\r 64/800 [=>............................] - ETA: 1s - loss: 1.1292"
     ]
    },
    {
     "name": "stdout",
     "output_type": "stream",
     "text": [
      "\b\b\b\b\b\b\b\b\b\b\b\b\b\b\b\b\b\b\b\b\b\b\b\b\b\b\b\b\b\b\b\b\b\b\b\b\b\b\b\b\b\b\b\b\b\b\b\b\b\b\b\b\b\b\b\b\b\b\b\b\b\b\b\b\b\r128/800 [===>..........................] - ETA: 1s - loss: 1.1051"
     ]
    },
    {
     "name": "stdout",
     "output_type": "stream",
     "text": [
      "\b\b\b\b\b\b\b\b\b\b\b\b\b\b\b\b\b\b\b\b\b\b\b\b\b\b\b\b\b\b\b\b\b\b\b\b\b\b\b\b\b\b\b\b\b\b\b\b\b\b\b\b\b\b\b\b\b\b\b\b\b\b\b\b\b\r192/800 [======>.......................] - ETA: 0s - loss: 1.1069"
     ]
    },
    {
     "name": "stdout",
     "output_type": "stream",
     "text": [
      "\b\b\b\b\b\b\b\b\b\b\b\b\b\b\b\b\b\b\b\b\b\b\b\b\b\b\b\b\b\b\b\b\b\b\b\b\b\b\b\b\b\b\b\b\b\b\b\b\b\b\b\b\b\b\b\b\b\b\b\b\b\b\b\b\b\r256/800 [========>.....................] - ETA: 0s - loss: 1.0908"
     ]
    },
    {
     "name": "stdout",
     "output_type": "stream",
     "text": [
      "\b\b\b\b\b\b\b\b\b\b\b\b\b\b\b\b\b\b\b\b\b\b\b\b\b\b\b\b\b\b\b\b\b\b\b\b\b\b\b\b\b\b\b\b\b\b\b\b\b\b\b\b\b\b\b\b\b\b\b\b\b\b\b\b\b\r320/800 [===========>..................] - ETA: 0s - loss: 1.0808"
     ]
    },
    {
     "name": "stdout",
     "output_type": "stream",
     "text": [
      "\b\b\b\b\b\b\b\b\b\b\b\b\b\b\b\b\b\b\b\b\b\b\b\b\b\b\b\b\b\b\b\b\b\b\b\b\b\b\b\b\b\b\b\b\b\b\b\b\b\b\b\b\b\b\b\b\b\b\b\b\b\b\b\b\b\r384/800 [=============>................] - ETA: 0s - loss: 1.0620"
     ]
    },
    {
     "name": "stdout",
     "output_type": "stream",
     "text": [
      "\b\b\b\b\b\b\b\b\b\b\b\b\b\b\b\b\b\b\b\b\b\b\b\b\b\b\b\b\b\b\b\b\b\b\b\b\b\b\b\b\b\b\b\b\b\b\b\b\b\b\b\b\b\b\b\b\b\b\b\b\b\b\b\b\b\r448/800 [===============>..............] - ETA: 0s - loss: 1.0684"
     ]
    },
    {
     "name": "stdout",
     "output_type": "stream",
     "text": [
      "\b\b\b\b\b\b\b\b\b\b\b\b\b\b\b\b\b\b\b\b\b\b\b\b\b\b\b\b\b\b\b\b\b\b\b\b\b\b\b\b\b\b\b\b\b\b\b\b\b\b\b\b\b\b\b\b\b\b\b\b\b\b\b\b\b\r512/800 [==================>...........] - ETA: 0s - loss: 1.0773"
     ]
    },
    {
     "name": "stdout",
     "output_type": "stream",
     "text": [
      "\b\b\b\b\b\b\b\b\b\b\b\b\b\b\b\b\b\b\b\b\b\b\b\b\b\b\b\b\b\b\b\b\b\b\b\b\b\b\b\b\b\b\b\b\b\b\b\b\b\b\b\b\b\b\b\b\b\b\b\b\b\b\b\b\b\r576/800 [====================>.........] - ETA: 0s - loss: 1.0711"
     ]
    },
    {
     "name": "stdout",
     "output_type": "stream",
     "text": [
      "\b\b\b\b\b\b\b\b\b\b\b\b\b\b\b\b\b\b\b\b\b\b\b\b\b\b\b\b\b\b\b\b\b\b\b\b\b\b\b\b\b\b\b\b\b\b\b\b\b\b\b\b\b\b\b\b\b\b\b\b\b\b\b\b\b\r640/800 [=======================>......] - ETA: 0s - loss: 1.0768"
     ]
    },
    {
     "name": "stdout",
     "output_type": "stream",
     "text": [
      "\b\b\b\b\b\b\b\b\b\b\b\b\b\b\b\b\b\b\b\b\b\b\b\b\b\b\b\b\b\b\b\b\b\b\b\b\b\b\b\b\b\b\b\b\b\b\b\b\b\b\b\b\b\b\b\b\b\b\b\b\b\b\b\b\b\r704/800 [=========================>....] - ETA: 0s - loss: 1.0780"
     ]
    },
    {
     "name": "stdout",
     "output_type": "stream",
     "text": [
      "\b\b\b\b\b\b\b\b\b\b\b\b\b\b\b\b\b\b\b\b\b\b\b\b\b\b\b\b\b\b\b\b\b\b\b\b\b\b\b\b\b\b\b\b\b\b\b\b\b\b\b\b\b\b\b\b\b\b\b\b\b\b\b\b\b\r768/800 [===========================>..] - ETA: 0s - loss: 1.0776"
     ]
    },
    {
     "name": "stdout",
     "output_type": "stream",
     "text": [
      "\b\b\b\b\b\b\b\b\b\b\b\b\b\b\b\b\b\b\b\b\b\b\b\b\b\b\b\b\b\b\b\b\b\b\b\b\b\b\b\b\b\b\b\b\b\b\b\b\b\b\b\b\b\b\b\b\b\b\b\b\b\b\b\b\b\r800/800 [==============================] - 1s 2ms/step - loss: 1.0832 - val_loss: 1.3072\n"
     ]
    },
    {
     "name": "stdout",
     "output_type": "stream",
     "text": [
      "Epoch 12/20\n"
     ]
    },
    {
     "name": "stdout",
     "output_type": "stream",
     "text": [
      "\r 64/800 [=>............................] - ETA: 1s - loss: 1.0218"
     ]
    },
    {
     "name": "stdout",
     "output_type": "stream",
     "text": [
      "\b\b\b\b\b\b\b\b\b\b\b\b\b\b\b\b\b\b\b\b\b\b\b\b\b\b\b\b\b\b\b\b\b\b\b\b\b\b\b\b\b\b\b\b\b\b\b\b\b\b\b\b\b\b\b\b\b\b\b\b\b\b\b\b\b\r128/800 [===>..........................] - ETA: 0s - loss: 1.0209"
     ]
    },
    {
     "name": "stdout",
     "output_type": "stream",
     "text": [
      "\b\b\b\b\b\b\b\b\b\b\b\b\b\b\b\b\b\b\b\b\b\b\b\b\b\b\b\b\b\b\b\b\b\b\b\b\b\b\b\b\b\b\b\b\b\b\b\b\b\b\b\b\b\b\b\b\b\b\b\b\b\b\b\b\b\r192/800 [======>.......................] - ETA: 0s - loss: 1.0396"
     ]
    },
    {
     "name": "stdout",
     "output_type": "stream",
     "text": [
      "\b\b\b\b\b\b\b\b\b\b\b\b\b\b\b\b\b\b\b\b\b\b\b\b\b\b\b\b\b\b\b\b\b\b\b\b\b\b\b\b\b\b\b\b\b\b\b\b\b\b\b\b\b\b\b\b\b\b\b\b\b\b\b\b\b\r256/800 [========>.....................] - ETA: 0s - loss: 1.0305"
     ]
    },
    {
     "name": "stdout",
     "output_type": "stream",
     "text": [
      "\b\b\b\b\b\b\b\b\b\b\b\b\b\b\b\b\b\b\b\b\b\b\b\b\b\b\b\b\b\b\b\b\b\b\b\b\b\b\b\b\b\b\b\b\b\b\b\b\b\b\b\b\b\b\b\b\b\b\b\b\b\b\b\b\b\r320/800 [===========>..................] - ETA: 0s - loss: 1.0290"
     ]
    },
    {
     "name": "stdout",
     "output_type": "stream",
     "text": [
      "\b\b\b\b\b\b\b\b\b\b\b\b\b\b\b\b\b\b\b\b\b\b\b\b\b\b\b\b\b\b\b\b\b\b\b\b\b\b\b\b\b\b\b\b\b\b\b\b\b\b\b\b\b\b\b\b\b\b\b\b\b\b\b\b\b\r384/800 [=============>................] - ETA: 0s - loss: 1.0408"
     ]
    },
    {
     "name": "stdout",
     "output_type": "stream",
     "text": [
      "\b\b\b\b\b\b\b\b\b\b\b\b\b\b\b\b\b\b\b\b\b\b\b\b\b\b\b\b\b\b\b\b\b\b\b\b\b\b\b\b\b\b\b\b\b\b\b\b\b\b\b\b\b\b\b\b\b\b\b\b\b\b\b\b\b\r448/800 [===============>..............] - ETA: 0s - loss: 1.0401"
     ]
    },
    {
     "name": "stdout",
     "output_type": "stream",
     "text": [
      "\b\b\b\b\b\b\b\b\b\b\b\b\b\b\b\b\b\b\b\b\b\b\b\b\b\b\b\b\b\b\b\b\b\b\b\b\b\b\b\b\b\b\b\b\b\b\b\b\b\b\b\b\b\b\b\b\b\b\b\b\b\b\b\b\b\r512/800 [==================>...........] - ETA: 0s - loss: 1.0408"
     ]
    },
    {
     "name": "stdout",
     "output_type": "stream",
     "text": [
      "\b\b\b\b\b\b\b\b\b\b\b\b\b\b\b\b\b\b\b\b\b\b\b\b\b\b\b\b\b\b\b\b\b\b\b\b\b\b\b\b\b\b\b\b\b\b\b\b\b\b\b\b\b\b\b\b\b\b\b\b\b\b\b\b\b\r576/800 [====================>.........] - ETA: 0s - loss: 1.0471"
     ]
    },
    {
     "name": "stdout",
     "output_type": "stream",
     "text": [
      "\b\b\b\b\b\b\b\b\b\b\b\b\b\b\b\b\b\b\b\b\b\b\b\b\b\b\b\b\b\b\b\b\b\b\b\b\b\b\b\b\b\b\b\b\b\b\b\b\b\b\b\b\b\b\b\b\b\b\b\b\b\b\b\b\b\r640/800 [=======================>......] - ETA: 0s - loss: 1.0573"
     ]
    },
    {
     "name": "stdout",
     "output_type": "stream",
     "text": [
      "\b\b\b\b\b\b\b\b\b\b\b\b\b\b\b\b\b\b\b\b\b\b\b\b\b\b\b\b\b\b\b\b\b\b\b\b\b\b\b\b\b\b\b\b\b\b\b\b\b\b\b\b\b\b\b\b\b\b\b\b\b\b\b\b\b\r704/800 [=========================>....] - ETA: 0s - loss: 1.0531"
     ]
    },
    {
     "name": "stdout",
     "output_type": "stream",
     "text": [
      "\b\b\b\b\b\b\b\b\b\b\b\b\b\b\b\b\b\b\b\b\b\b\b\b\b\b\b\b\b\b\b\b\b\b\b\b\b\b\b\b\b\b\b\b\b\b\b\b\b\b\b\b\b\b\b\b\b\b\b\b\b\b\b\b\b\r768/800 [===========================>..] - ETA: 0s - loss: 1.0504"
     ]
    },
    {
     "name": "stdout",
     "output_type": "stream",
     "text": [
      "\b\b\b\b\b\b\b\b\b\b\b\b\b\b\b\b\b\b\b\b\b\b\b\b\b\b\b\b\b\b\b\b\b\b\b\b\b\b\b\b\b\b\b\b\b\b\b\b\b\b\b\b\b\b\b\b\b\b\b\b\b\b\b\b\b\r800/800 [==============================] - 1s 2ms/step - loss: 1.0487 - val_loss: 1.3077\n"
     ]
    },
    {
     "name": "stdout",
     "output_type": "stream",
     "text": [
      "Epoch 13/20\n"
     ]
    },
    {
     "name": "stdout",
     "output_type": "stream",
     "text": [
      "\r 64/800 [=>............................] - ETA: 1s - loss: 1.0435"
     ]
    },
    {
     "name": "stdout",
     "output_type": "stream",
     "text": [
      "\b\b\b\b\b\b\b\b\b\b\b\b\b\b\b\b\b\b\b\b\b\b\b\b\b\b\b\b\b\b\b\b\b\b\b\b\b\b\b\b\b\b\b\b\b\b\b\b\b\b\b\b\b\b\b\b\b\b\b\b\b\b\b\b\b\r128/800 [===>..........................] - ETA: 1s - loss: 1.0016"
     ]
    },
    {
     "name": "stdout",
     "output_type": "stream",
     "text": [
      "\b\b\b\b\b\b\b\b\b\b\b\b\b\b\b\b\b\b\b\b\b\b\b\b\b\b\b\b\b\b\b\b\b\b\b\b\b\b\b\b\b\b\b\b\b\b\b\b\b\b\b\b\b\b\b\b\b\b\b\b\b\b\b\b\b\r192/800 [======>.......................] - ETA: 1s - loss: 1.0192"
     ]
    },
    {
     "name": "stdout",
     "output_type": "stream",
     "text": [
      "\b\b\b\b\b\b\b\b\b\b\b\b\b\b\b\b\b\b\b\b\b\b\b\b\b\b\b\b\b\b\b\b\b\b\b\b\b\b\b\b\b\b\b\b\b\b\b\b\b\b\b\b\b\b\b\b\b\b\b\b\b\b\b\b\b\r256/800 [========>.....................] - ETA: 0s - loss: 1.0250"
     ]
    },
    {
     "name": "stdout",
     "output_type": "stream",
     "text": [
      "\b\b\b\b\b\b\b\b\b\b\b\b\b\b\b\b\b\b\b\b\b\b\b\b\b\b\b\b\b\b\b\b\b\b\b\b\b\b\b\b\b\b\b\b\b\b\b\b\b\b\b\b\b\b\b\b\b\b\b\b\b\b\b\b\b\r320/800 [===========>..................] - ETA: 0s - loss: 1.0090"
     ]
    },
    {
     "name": "stdout",
     "output_type": "stream",
     "text": [
      "\b\b\b\b\b\b\b\b\b\b\b\b\b\b\b\b\b\b\b\b\b\b\b\b\b\b\b\b\b\b\b\b\b\b\b\b\b\b\b\b\b\b\b\b\b\b\b\b\b\b\b\b\b\b\b\b\b\b\b\b\b\b\b\b\b\r384/800 [=============>................] - ETA: 0s - loss: 1.0210"
     ]
    },
    {
     "name": "stdout",
     "output_type": "stream",
     "text": [
      "\b\b\b\b\b\b\b\b\b\b\b\b\b\b\b\b\b\b\b\b\b\b\b\b\b\b\b\b\b\b\b\b\b\b\b\b\b\b\b\b\b\b\b\b\b\b\b\b\b\b\b\b\b\b\b\b\b\b\b\b\b\b\b\b\b\r448/800 [===============>..............] - ETA: 0s - loss: 1.0265"
     ]
    },
    {
     "name": "stdout",
     "output_type": "stream",
     "text": [
      "\b\b\b\b\b\b\b\b\b\b\b\b\b\b\b\b\b\b\b\b\b\b\b\b\b\b\b\b\b\b\b\b\b\b\b\b\b\b\b\b\b\b\b\b\b\b\b\b\b\b\b\b\b\b\b\b\b\b\b\b\b\b\b\b\b\r512/800 [==================>...........] - ETA: 0s - loss: 1.0268"
     ]
    },
    {
     "name": "stdout",
     "output_type": "stream",
     "text": [
      "\b\b\b\b\b\b\b\b\b\b\b\b\b\b\b\b\b\b\b\b\b\b\b\b\b\b\b\b\b\b\b\b\b\b\b\b\b\b\b\b\b\b\b\b\b\b\b\b\b\b\b\b\b\b\b\b\b\b\b\b\b\b\b\b\b\r576/800 [====================>.........] - ETA: 0s - loss: 1.0251"
     ]
    },
    {
     "name": "stdout",
     "output_type": "stream",
     "text": [
      "\b\b\b\b\b\b\b\b\b\b\b\b\b\b\b\b\b\b\b\b\b\b\b\b\b\b\b\b\b\b\b\b\b\b\b\b\b\b\b\b\b\b\b\b\b\b\b\b\b\b\b\b\b\b\b\b\b\b\b\b\b\b\b\b\b\r640/800 [=======================>......] - ETA: 0s - loss: 1.0295"
     ]
    },
    {
     "name": "stdout",
     "output_type": "stream",
     "text": [
      "\b\b\b\b\b\b\b\b\b\b\b\b\b\b\b\b\b\b\b\b\b\b\b\b\b\b\b\b\b\b\b\b\b\b\b\b\b\b\b\b\b\b\b\b\b\b\b\b\b\b\b\b\b\b\b\b\b\b\b\b\b\b\b\b\b\r704/800 [=========================>....] - ETA: 0s - loss: 1.0282"
     ]
    },
    {
     "name": "stdout",
     "output_type": "stream",
     "text": [
      "\b\b\b\b\b\b\b\b\b\b\b\b\b\b\b\b\b\b\b\b\b\b\b\b\b\b\b\b\b\b\b\b\b\b\b\b\b\b\b\b\b\b\b\b\b\b\b\b\b\b\b\b\b\b\b\b\b\b\b\b\b\b\b\b\b\r768/800 [===========================>..] - ETA: 0s - loss: 1.0265"
     ]
    },
    {
     "name": "stdout",
     "output_type": "stream",
     "text": [
      "\b\b\b\b\b\b\b\b\b\b\b\b\b\b\b\b\b\b\b\b\b\b\b\b\b\b\b\b\b\b\b\b\b\b\b\b\b\b\b\b\b\b\b\b\b\b\b\b\b\b\b\b\b\b\b\b\b\b\b\b\b\b\b\b\b\r800/800 [==============================] - 1s 2ms/step - loss: 1.0221 - val_loss: 1.2704\n"
     ]
    },
    {
     "name": "stdout",
     "output_type": "stream",
     "text": [
      "Epoch 14/20\n"
     ]
    },
    {
     "name": "stdout",
     "output_type": "stream",
     "text": [
      "\r 64/800 [=>............................] - ETA: 1s - loss: 1.0240"
     ]
    },
    {
     "name": "stdout",
     "output_type": "stream",
     "text": [
      "\b\b\b\b\b\b\b\b\b\b\b\b\b\b\b\b\b\b\b\b\b\b\b\b\b\b\b\b\b\b\b\b\b\b\b\b\b\b\b\b\b\b\b\b\b\b\b\b\b\b\b\b\b\b\b\b\b\b\b\b\b\b\b\b\b\r128/800 [===>..........................] - ETA: 1s - loss: 1.0106"
     ]
    },
    {
     "name": "stdout",
     "output_type": "stream",
     "text": [
      "\b\b\b\b\b\b\b\b\b\b\b\b\b\b\b\b\b\b\b\b\b\b\b\b\b\b\b\b\b\b\b\b\b\b\b\b\b\b\b\b\b\b\b\b\b\b\b\b\b\b\b\b\b\b\b\b\b\b\b\b\b\b\b\b\b\r192/800 [======>.......................] - ETA: 0s - loss: 1.0344"
     ]
    },
    {
     "name": "stdout",
     "output_type": "stream",
     "text": [
      "\b\b\b\b\b\b\b\b\b\b\b\b\b\b\b\b\b\b\b\b\b\b\b\b\b\b\b\b\b\b\b\b\b\b\b\b\b\b\b\b\b\b\b\b\b\b\b\b\b\b\b\b\b\b\b\b\b\b\b\b\b\b\b\b\b\r256/800 [========>.....................] - ETA: 0s - loss: 1.0242"
     ]
    },
    {
     "name": "stdout",
     "output_type": "stream",
     "text": [
      "\b\b\b\b\b\b\b\b\b\b\b\b\b\b\b\b\b\b\b\b\b\b\b\b\b\b\b\b\b\b\b\b\b\b\b\b\b\b\b\b\b\b\b\b\b\b\b\b\b\b\b\b\b\b\b\b\b\b\b\b\b\b\b\b\b\r320/800 [===========>..................] - ETA: 0s - loss: 1.0204"
     ]
    },
    {
     "name": "stdout",
     "output_type": "stream",
     "text": [
      "\b\b\b\b\b\b\b\b\b\b\b\b\b\b\b\b\b\b\b\b\b\b\b\b\b\b\b\b\b\b\b\b\b\b\b\b\b\b\b\b\b\b\b\b\b\b\b\b\b\b\b\b\b\b\b\b\b\b\b\b\b\b\b\b\b\r384/800 [=============>................] - ETA: 0s - loss: 1.0215"
     ]
    },
    {
     "name": "stdout",
     "output_type": "stream",
     "text": [
      "\b\b\b\b\b\b\b\b\b\b\b\b\b\b\b\b\b\b\b\b\b\b\b\b\b\b\b\b\b\b\b\b\b\b\b\b\b\b\b\b\b\b\b\b\b\b\b\b\b\b\b\b\b\b\b\b\b\b\b\b\b\b\b\b\b\r448/800 [===============>..............] - ETA: 0s - loss: 1.0091"
     ]
    },
    {
     "name": "stdout",
     "output_type": "stream",
     "text": [
      "\b\b\b\b\b\b\b\b\b\b\b\b\b\b\b\b\b\b\b\b\b\b\b\b\b\b\b\b\b\b\b\b\b\b\b\b\b\b\b\b\b\b\b\b\b\b\b\b\b\b\b\b\b\b\b\b\b\b\b\b\b\b\b\b\b\r512/800 [==================>...........] - ETA: 0s - loss: 1.0076"
     ]
    },
    {
     "name": "stdout",
     "output_type": "stream",
     "text": [
      "\b\b\b\b\b\b\b\b\b\b\b\b\b\b\b\b\b\b\b\b\b\b\b\b\b\b\b\b\b\b\b\b\b\b\b\b\b\b\b\b\b\b\b\b\b\b\b\b\b\b\b\b\b\b\b\b\b\b\b\b\b\b\b\b\b\r576/800 [====================>.........] - ETA: 0s - loss: 1.0103"
     ]
    },
    {
     "name": "stdout",
     "output_type": "stream",
     "text": [
      "\b\b\b\b\b\b\b\b\b\b\b\b\b\b\b\b\b\b\b\b\b\b\b\b\b\b\b\b\b\b\b\b\b\b\b\b\b\b\b\b\b\b\b\b\b\b\b\b\b\b\b\b\b\b\b\b\b\b\b\b\b\b\b\b\b\r640/800 [=======================>......] - ETA: 0s - loss: 0.9987"
     ]
    },
    {
     "name": "stdout",
     "output_type": "stream",
     "text": [
      "\b\b\b\b\b\b\b\b\b\b\b\b\b\b\b\b\b\b\b\b\b\b\b\b\b\b\b\b\b\b\b\b\b\b\b\b\b\b\b\b\b\b\b\b\b\b\b\b\b\b\b\b\b\b\b\b\b\b\b\b\b\b\b\b\b\r704/800 [=========================>....] - ETA: 0s - loss: 0.9967"
     ]
    },
    {
     "name": "stdout",
     "output_type": "stream",
     "text": [
      "\b\b\b\b\b\b\b\b\b\b\b\b\b\b\b\b\b\b\b\b\b\b\b\b\b\b\b\b\b\b\b\b\b\b\b\b\b\b\b\b\b\b\b\b\b\b\b\b\b\b\b\b\b\b\b\b\b\b\b\b\b\b\b\b\b\r768/800 [===========================>..] - ETA: 0s - loss: 0.9930"
     ]
    },
    {
     "name": "stdout",
     "output_type": "stream",
     "text": [
      "\b\b\b\b\b\b\b\b\b\b\b\b\b\b\b\b\b\b\b\b\b\b\b\b\b\b\b\b\b\b\b\b\b\b\b\b\b\b\b\b\b\b\b\b\b\b\b\b\b\b\b\b\b\b\b\b\b\b\b\b\b\b\b\b\b\r800/800 [==============================] - 1s 2ms/step - loss: 0.9901 - val_loss: 1.2366\n"
     ]
    },
    {
     "name": "stdout",
     "output_type": "stream",
     "text": [
      "Epoch 15/20\n"
     ]
    },
    {
     "name": "stdout",
     "output_type": "stream",
     "text": [
      "\r 64/800 [=>............................] - ETA: 1s - loss: 1.0173"
     ]
    },
    {
     "name": "stdout",
     "output_type": "stream",
     "text": [
      "\b\b\b\b\b\b\b\b\b\b\b\b\b\b\b\b\b\b\b\b\b\b\b\b\b\b\b\b\b\b\b\b\b\b\b\b\b\b\b\b\b\b\b\b\b\b\b\b\b\b\b\b\b\b\b\b\b\b\b\b\b\b\b\b\b\r128/800 [===>..........................] - ETA: 1s - loss: 1.0130"
     ]
    },
    {
     "name": "stdout",
     "output_type": "stream",
     "text": [
      "\b\b\b\b\b\b\b\b\b\b\b\b\b\b\b\b\b\b\b\b\b\b\b\b\b\b\b\b\b\b\b\b\b\b\b\b\b\b\b\b\b\b\b\b\b\b\b\b\b\b\b\b\b\b\b\b\b\b\b\b\b\b\b\b\b\r192/800 [======>.......................] - ETA: 0s - loss: 1.0130"
     ]
    },
    {
     "name": "stdout",
     "output_type": "stream",
     "text": [
      "\b\b\b\b\b\b\b\b\b\b\b\b\b\b\b\b\b\b\b\b\b\b\b\b\b\b\b\b\b\b\b\b\b\b\b\b\b\b\b\b\b\b\b\b\b\b\b\b\b\b\b\b\b\b\b\b\b\b\b\b\b\b\b\b\b\r256/800 [========>.....................] - ETA: 0s - loss: 0.9892"
     ]
    },
    {
     "name": "stdout",
     "output_type": "stream",
     "text": [
      "\b\b\b\b\b\b\b\b\b\b\b\b\b\b\b\b\b\b\b\b\b\b\b\b\b\b\b\b\b\b\b\b\b\b\b\b\b\b\b\b\b\b\b\b\b\b\b\b\b\b\b\b\b\b\b\b\b\b\b\b\b\b\b\b\b\r320/800 [===========>..................] - ETA: 0s - loss: 0.9851"
     ]
    },
    {
     "name": "stdout",
     "output_type": "stream",
     "text": [
      "\b\b\b\b\b\b\b\b\b\b\b\b\b\b\b\b\b\b\b\b\b\b\b\b\b\b\b\b\b\b\b\b\b\b\b\b\b\b\b\b\b\b\b\b\b\b\b\b\b\b\b\b\b\b\b\b\b\b\b\b\b\b\b\b\b\r384/800 [=============>................] - ETA: 0s - loss: 0.9824"
     ]
    },
    {
     "name": "stdout",
     "output_type": "stream",
     "text": [
      "\b\b\b\b\b\b\b\b\b\b\b\b\b\b\b\b\b\b\b\b\b\b\b\b\b\b\b\b\b\b\b\b\b\b\b\b\b\b\b\b\b\b\b\b\b\b\b\b\b\b\b\b\b\b\b\b\b\b\b\b\b\b\b\b\b\r448/800 [===============>..............] - ETA: 0s - loss: 0.9694"
     ]
    },
    {
     "name": "stdout",
     "output_type": "stream",
     "text": [
      "\b\b\b\b\b\b\b\b\b\b\b\b\b\b\b\b\b\b\b\b\b\b\b\b\b\b\b\b\b\b\b\b\b\b\b\b\b\b\b\b\b\b\b\b\b\b\b\b\b\b\b\b\b\b\b\b\b\b\b\b\b\b\b\b\b\r512/800 [==================>...........] - ETA: 0s - loss: 0.9671"
     ]
    },
    {
     "name": "stdout",
     "output_type": "stream",
     "text": [
      "\b\b\b\b\b\b\b\b\b\b\b\b\b\b\b\b\b\b\b\b\b\b\b\b\b\b\b\b\b\b\b\b\b\b\b\b\b\b\b\b\b\b\b\b\b\b\b\b\b\b\b\b\b\b\b\b\b\b\b\b\b\b\b\b\b\r576/800 [====================>.........] - ETA: 0s - loss: 0.9595"
     ]
    },
    {
     "name": "stdout",
     "output_type": "stream",
     "text": [
      "\b\b\b\b\b\b\b\b\b\b\b\b\b\b\b\b\b\b\b\b\b\b\b\b\b\b\b\b\b\b\b\b\b\b\b\b\b\b\b\b\b\b\b\b\b\b\b\b\b\b\b\b\b\b\b\b\b\b\b\b\b\b\b\b\b\r640/800 [=======================>......] - ETA: 0s - loss: 0.9573"
     ]
    },
    {
     "name": "stdout",
     "output_type": "stream",
     "text": [
      "\b\b\b\b\b\b\b\b\b\b\b\b\b\b\b\b\b\b\b\b\b\b\b\b\b\b\b\b\b\b\b\b\b\b\b\b\b\b\b\b\b\b\b\b\b\b\b\b\b\b\b\b\b\b\b\b\b\b\b\b\b\b\b\b\b\r704/800 [=========================>....] - ETA: 0s - loss: 0.9594"
     ]
    },
    {
     "name": "stdout",
     "output_type": "stream",
     "text": [
      "\b\b\b\b\b\b\b\b\b\b\b\b\b\b\b\b\b\b\b\b\b\b\b\b\b\b\b\b\b\b\b\b\b\b\b\b\b\b\b\b\b\b\b\b\b\b\b\b\b\b\b\b\b\b\b\b\b\b\b\b\b\b\b\b\b\r768/800 [===========================>..] - ETA: 0s - loss: 0.9658"
     ]
    },
    {
     "name": "stdout",
     "output_type": "stream",
     "text": [
      "\b\b\b\b\b\b\b\b\b\b\b\b\b\b\b\b\b\b\b\b\b\b\b\b\b\b\b\b\b\b\b\b\b\b\b\b\b\b\b\b\b\b\b\b\b\b\b\b\b\b\b\b\b\b\b\b\b\b\b\b\b\b\b\b\b\r800/800 [==============================] - 1s 2ms/step - loss: 0.9663 - val_loss: 1.2343\n"
     ]
    },
    {
     "name": "stdout",
     "output_type": "stream",
     "text": [
      "Epoch 16/20\n"
     ]
    },
    {
     "name": "stdout",
     "output_type": "stream",
     "text": [
      "\r 64/800 [=>............................] - ETA: 1s - loss: 0.9477"
     ]
    },
    {
     "name": "stdout",
     "output_type": "stream",
     "text": [
      "\b\b\b\b\b\b\b\b\b\b\b\b\b\b\b\b\b\b\b\b\b\b\b\b\b\b\b\b\b\b\b\b\b\b\b\b\b\b\b\b\b\b\b\b\b\b\b\b\b\b\b\b\b\b\b\b\b\b\b\b\b\b\b\b\b\r128/800 [===>..........................] - ETA: 1s - loss: 0.9327"
     ]
    },
    {
     "name": "stdout",
     "output_type": "stream",
     "text": [
      "\b\b\b\b\b\b\b\b\b\b\b\b\b\b\b\b\b\b\b\b\b\b\b\b\b\b\b\b\b\b\b\b\b\b\b\b\b\b\b\b\b\b\b\b\b\b\b\b\b\b\b\b\b\b\b\b\b\b\b\b\b\b\b\b\b\r192/800 [======>.......................] - ETA: 0s - loss: 0.9646"
     ]
    },
    {
     "name": "stdout",
     "output_type": "stream",
     "text": [
      "\b\b\b\b\b\b\b\b\b\b\b\b\b\b\b\b\b\b\b\b\b\b\b\b\b\b\b\b\b\b\b\b\b\b\b\b\b\b\b\b\b\b\b\b\b\b\b\b\b\b\b\b\b\b\b\b\b\b\b\b\b\b\b\b\b\r256/800 [========>.....................] - ETA: 0s - loss: 0.9495"
     ]
    },
    {
     "name": "stdout",
     "output_type": "stream",
     "text": [
      "\b\b\b\b\b\b\b\b\b\b\b\b\b\b\b\b\b\b\b\b\b\b\b\b\b\b\b\b\b\b\b\b\b\b\b\b\b\b\b\b\b\b\b\b\b\b\b\b\b\b\b\b\b\b\b\b\b\b\b\b\b\b\b\b\b\r320/800 [===========>..................] - ETA: 0s - loss: 0.9433"
     ]
    },
    {
     "name": "stdout",
     "output_type": "stream",
     "text": [
      "\b\b\b\b\b\b\b\b\b\b\b\b\b\b\b\b\b\b\b\b\b\b\b\b\b\b\b\b\b\b\b\b\b\b\b\b\b\b\b\b\b\b\b\b\b\b\b\b\b\b\b\b\b\b\b\b\b\b\b\b\b\b\b\b\b\r384/800 [=============>................] - ETA: 0s - loss: 0.9363"
     ]
    },
    {
     "name": "stdout",
     "output_type": "stream",
     "text": [
      "\b\b\b\b\b\b\b\b\b\b\b\b\b\b\b\b\b\b\b\b\b\b\b\b\b\b\b\b\b\b\b\b\b\b\b\b\b\b\b\b\b\b\b\b\b\b\b\b\b\b\b\b\b\b\b\b\b\b\b\b\b\b\b\b\b\r448/800 [===============>..............] - ETA: 0s - loss: 0.9351"
     ]
    },
    {
     "name": "stdout",
     "output_type": "stream",
     "text": [
      "\b\b\b\b\b\b\b\b\b\b\b\b\b\b\b\b\b\b\b\b\b\b\b\b\b\b\b\b\b\b\b\b\b\b\b\b\b\b\b\b\b\b\b\b\b\b\b\b\b\b\b\b\b\b\b\b\b\b\b\b\b\b\b\b\b\r512/800 [==================>...........] - ETA: 0s - loss: 0.9291"
     ]
    },
    {
     "name": "stdout",
     "output_type": "stream",
     "text": [
      "\b\b\b\b\b\b\b\b\b\b\b\b\b\b\b\b\b\b\b\b\b\b\b\b\b\b\b\b\b\b\b\b\b\b\b\b\b\b\b\b\b\b\b\b\b\b\b\b\b\b\b\b\b\b\b\b\b\b\b\b\b\b\b\b\b\r576/800 [====================>.........] - ETA: 0s - loss: 0.9356"
     ]
    },
    {
     "name": "stdout",
     "output_type": "stream",
     "text": [
      "\b\b\b\b\b\b\b\b\b\b\b\b\b\b\b\b\b\b\b\b\b\b\b\b\b\b\b\b\b\b\b\b\b\b\b\b\b\b\b\b\b\b\b\b\b\b\b\b\b\b\b\b\b\b\b\b\b\b\b\b\b\b\b\b\b\r640/800 [=======================>......] - ETA: 0s - loss: 0.9392"
     ]
    },
    {
     "name": "stdout",
     "output_type": "stream",
     "text": [
      "\b\b\b\b\b\b\b\b\b\b\b\b\b\b\b\b\b\b\b\b\b\b\b\b\b\b\b\b\b\b\b\b\b\b\b\b\b\b\b\b\b\b\b\b\b\b\b\b\b\b\b\b\b\b\b\b\b\b\b\b\b\b\b\b\b\r704/800 [=========================>....] - ETA: 0s - loss: 0.9361"
     ]
    },
    {
     "name": "stdout",
     "output_type": "stream",
     "text": [
      "\b\b\b\b\b\b\b\b\b\b\b\b\b\b\b\b\b\b\b\b\b\b\b\b\b\b\b\b\b\b\b\b\b\b\b\b\b\b\b\b\b\b\b\b\b\b\b\b\b\b\b\b\b\b\b\b\b\b\b\b\b\b\b\b\b\r768/800 [===========================>..] - ETA: 0s - loss: 0.9437"
     ]
    },
    {
     "name": "stdout",
     "output_type": "stream",
     "text": [
      "\b\b\b\b\b\b\b\b\b\b\b\b\b\b\b\b\b\b\b\b\b\b\b\b\b\b\b\b\b\b\b\b\b\b\b\b\b\b\b\b\b\b\b\b\b\b\b\b\b\b\b\b\b\b\b\b\b\b\b\b\b\b\b\b\b\r800/800 [==============================] - 1s 2ms/step - loss: 0.9418 - val_loss: 1.1856\n"
     ]
    },
    {
     "name": "stdout",
     "output_type": "stream",
     "text": [
      "Epoch 17/20\n"
     ]
    },
    {
     "name": "stdout",
     "output_type": "stream",
     "text": [
      "\r 64/800 [=>............................] - ETA: 1s - loss: 0.8966"
     ]
    },
    {
     "name": "stdout",
     "output_type": "stream",
     "text": [
      "\b\b\b\b\b\b\b\b\b\b\b\b\b\b\b\b\b\b\b\b\b\b\b\b\b\b\b\b\b\b\b\b\b\b\b\b\b\b\b\b\b\b\b\b\b\b\b\b\b\b\b\b\b\b\b\b\b\b\b\b\b\b\b\b\b\r128/800 [===>..........................] - ETA: 1s - loss: 0.9132"
     ]
    },
    {
     "name": "stdout",
     "output_type": "stream",
     "text": [
      "\b\b\b\b\b\b\b\b\b\b\b\b\b\b\b\b\b\b\b\b\b\b\b\b\b\b\b\b\b\b\b\b\b\b\b\b\b\b\b\b\b\b\b\b\b\b\b\b\b\b\b\b\b\b\b\b\b\b\b\b\b\b\b\b\b\r192/800 [======>.......................] - ETA: 0s - loss: 0.9342"
     ]
    },
    {
     "name": "stdout",
     "output_type": "stream",
     "text": [
      "\b\b\b\b\b\b\b\b\b\b\b\b\b\b\b\b\b\b\b\b\b\b\b\b\b\b\b\b\b\b\b\b\b\b\b\b\b\b\b\b\b\b\b\b\b\b\b\b\b\b\b\b\b\b\b\b\b\b\b\b\b\b\b\b\b\r256/800 [========>.....................] - ETA: 0s - loss: 0.9445"
     ]
    },
    {
     "name": "stdout",
     "output_type": "stream",
     "text": [
      "\b\b\b\b\b\b\b\b\b\b\b\b\b\b\b\b\b\b\b\b\b\b\b\b\b\b\b\b\b\b\b\b\b\b\b\b\b\b\b\b\b\b\b\b\b\b\b\b\b\b\b\b\b\b\b\b\b\b\b\b\b\b\b\b\b\r320/800 [===========>..................] - ETA: 0s - loss: 0.9467"
     ]
    },
    {
     "name": "stdout",
     "output_type": "stream",
     "text": [
      "\b\b\b\b\b\b\b\b\b\b\b\b\b\b\b\b\b\b\b\b\b\b\b\b\b\b\b\b\b\b\b\b\b\b\b\b\b\b\b\b\b\b\b\b\b\b\b\b\b\b\b\b\b\b\b\b\b\b\b\b\b\b\b\b\b\r384/800 [=============>................] - ETA: 0s - loss: 0.9442"
     ]
    },
    {
     "name": "stdout",
     "output_type": "stream",
     "text": [
      "\b\b\b\b\b\b\b\b\b\b\b\b\b\b\b\b\b\b\b\b\b\b\b\b\b\b\b\b\b\b\b\b\b\b\b\b\b\b\b\b\b\b\b\b\b\b\b\b\b\b\b\b\b\b\b\b\b\b\b\b\b\b\b\b\b\r448/800 [===============>..............] - ETA: 0s - loss: 0.9444"
     ]
    },
    {
     "name": "stdout",
     "output_type": "stream",
     "text": [
      "\b\b\b\b\b\b\b\b\b\b\b\b\b\b\b\b\b\b\b\b\b\b\b\b\b\b\b\b\b\b\b\b\b\b\b\b\b\b\b\b\b\b\b\b\b\b\b\b\b\b\b\b\b\b\b\b\b\b\b\b\b\b\b\b\b\r512/800 [==================>...........] - ETA: 0s - loss: 0.9400"
     ]
    },
    {
     "name": "stdout",
     "output_type": "stream",
     "text": [
      "\b\b\b\b\b\b\b\b\b\b\b\b\b\b\b\b\b\b\b\b\b\b\b\b\b\b\b\b\b\b\b\b\b\b\b\b\b\b\b\b\b\b\b\b\b\b\b\b\b\b\b\b\b\b\b\b\b\b\b\b\b\b\b\b\b\r576/800 [====================>.........] - ETA: 0s - loss: 0.9334"
     ]
    },
    {
     "name": "stdout",
     "output_type": "stream",
     "text": [
      "\b\b\b\b\b\b\b\b\b\b\b\b\b\b\b\b\b\b\b\b\b\b\b\b\b\b\b\b\b\b\b\b\b\b\b\b\b\b\b\b\b\b\b\b\b\b\b\b\b\b\b\b\b\b\b\b\b\b\b\b\b\b\b\b\b\r640/800 [=======================>......] - ETA: 0s - loss: 0.9322"
     ]
    },
    {
     "name": "stdout",
     "output_type": "stream",
     "text": [
      "\b\b\b\b\b\b\b\b\b\b\b\b\b\b\b\b\b\b\b\b\b\b\b\b\b\b\b\b\b\b\b\b\b\b\b\b\b\b\b\b\b\b\b\b\b\b\b\b\b\b\b\b\b\b\b\b\b\b\b\b\b\b\b\b\b\r704/800 [=========================>....] - ETA: 0s - loss: 0.9304"
     ]
    },
    {
     "name": "stdout",
     "output_type": "stream",
     "text": [
      "\b\b\b\b\b\b\b\b\b\b\b\b\b\b\b\b\b\b\b\b\b\b\b\b\b\b\b\b\b\b\b\b\b\b\b\b\b\b\b\b\b\b\b\b\b\b\b\b\b\b\b\b\b\b\b\b\b\b\b\b\b\b\b\b\b\r768/800 [===========================>..] - ETA: 0s - loss: 0.9222"
     ]
    },
    {
     "name": "stdout",
     "output_type": "stream",
     "text": [
      "\b\b\b\b\b\b\b\b\b\b\b\b\b\b\b\b\b\b\b\b\b\b\b\b\b\b\b\b\b\b\b\b\b\b\b\b\b\b\b\b\b\b\b\b\b\b\b\b\b\b\b\b\b\b\b\b\b\b\b\b\b\b\b\b\b\r800/800 [==============================] - 1s 2ms/step - loss: 0.9203 - val_loss: 1.1801\n"
     ]
    },
    {
     "name": "stdout",
     "output_type": "stream",
     "text": [
      "Epoch 18/20\n"
     ]
    },
    {
     "name": "stdout",
     "output_type": "stream",
     "text": [
      "\r 64/800 [=>............................] - ETA: 1s - loss: 0.8821"
     ]
    },
    {
     "name": "stdout",
     "output_type": "stream",
     "text": [
      "\b\b\b\b\b\b\b\b\b\b\b\b\b\b\b\b\b\b\b\b\b\b\b\b\b\b\b\b\b\b\b\b\b\b\b\b\b\b\b\b\b\b\b\b\b\b\b\b\b\b\b\b\b\b\b\b\b\b\b\b\b\b\b\b\b\r128/800 [===>..........................] - ETA: 1s - loss: 0.8763"
     ]
    },
    {
     "name": "stdout",
     "output_type": "stream",
     "text": [
      "\b\b\b\b\b\b\b\b\b\b\b\b\b\b\b\b\b\b\b\b\b\b\b\b\b\b\b\b\b\b\b\b\b\b\b\b\b\b\b\b\b\b\b\b\b\b\b\b\b\b\b\b\b\b\b\b\b\b\b\b\b\b\b\b\b\r192/800 [======>.......................] - ETA: 1s - loss: 0.8856"
     ]
    },
    {
     "name": "stdout",
     "output_type": "stream",
     "text": [
      "\b\b\b\b\b\b\b\b\b\b\b\b\b\b\b\b\b\b\b\b\b\b\b\b\b\b\b\b\b\b\b\b\b\b\b\b\b\b\b\b\b\b\b\b\b\b\b\b\b\b\b\b\b\b\b\b\b\b\b\b\b\b\b\b\b\r256/800 [========>.....................] - ETA: 0s - loss: 0.9127"
     ]
    },
    {
     "name": "stdout",
     "output_type": "stream",
     "text": [
      "\b\b\b\b\b\b\b\b\b\b\b\b\b\b\b\b\b\b\b\b\b\b\b\b\b\b\b\b\b\b\b\b\b\b\b\b\b\b\b\b\b\b\b\b\b\b\b\b\b\b\b\b\b\b\b\b\b\b\b\b\b\b\b\b\b\r320/800 [===========>..................] - ETA: 0s - loss: 0.9027"
     ]
    },
    {
     "name": "stdout",
     "output_type": "stream",
     "text": [
      "\b\b\b\b\b\b\b\b\b\b\b\b\b\b\b\b\b\b\b\b\b\b\b\b\b\b\b\b\b\b\b\b\b\b\b\b\b\b\b\b\b\b\b\b\b\b\b\b\b\b\b\b\b\b\b\b\b\b\b\b\b\b\b\b\b\r384/800 [=============>................] - ETA: 0s - loss: 0.8928"
     ]
    },
    {
     "name": "stdout",
     "output_type": "stream",
     "text": [
      "\b\b\b\b\b\b\b\b\b\b\b\b\b\b\b\b\b\b\b\b\b\b\b\b\b\b\b\b\b\b\b\b\b\b\b\b\b\b\b\b\b\b\b\b\b\b\b\b\b\b\b\b\b\b\b\b\b\b\b\b\b\b\b\b\b\r448/800 [===============>..............] - ETA: 0s - loss: 0.8991"
     ]
    },
    {
     "name": "stdout",
     "output_type": "stream",
     "text": [
      "\b\b\b\b\b\b\b\b\b\b\b\b\b\b\b\b\b\b\b\b\b\b\b\b\b\b\b\b\b\b\b\b\b\b\b\b\b\b\b\b\b\b\b\b\b\b\b\b\b\b\b\b\b\b\b\b\b\b\b\b\b\b\b\b\b\r512/800 [==================>...........] - ETA: 0s - loss: 0.9072"
     ]
    },
    {
     "name": "stdout",
     "output_type": "stream",
     "text": [
      "\b\b\b\b\b\b\b\b\b\b\b\b\b\b\b\b\b\b\b\b\b\b\b\b\b\b\b\b\b\b\b\b\b\b\b\b\b\b\b\b\b\b\b\b\b\b\b\b\b\b\b\b\b\b\b\b\b\b\b\b\b\b\b\b\b\r576/800 [====================>.........] - ETA: 0s - loss: 0.9086"
     ]
    },
    {
     "name": "stdout",
     "output_type": "stream",
     "text": [
      "\b\b\b\b\b\b\b\b\b\b\b\b\b\b\b\b\b\b\b\b\b\b\b\b\b\b\b\b\b\b\b\b\b\b\b\b\b\b\b\b\b\b\b\b\b\b\b\b\b\b\b\b\b\b\b\b\b\b\b\b\b\b\b\b\b\r640/800 [=======================>......] - ETA: 0s - loss: 0.9069"
     ]
    },
    {
     "name": "stdout",
     "output_type": "stream",
     "text": [
      "\b\b\b\b\b\b\b\b\b\b\b\b\b\b\b\b\b\b\b\b\b\b\b\b\b\b\b\b\b\b\b\b\b\b\b\b\b\b\b\b\b\b\b\b\b\b\b\b\b\b\b\b\b\b\b\b\b\b\b\b\b\b\b\b\b\r704/800 [=========================>....] - ETA: 0s - loss: 0.9034"
     ]
    },
    {
     "name": "stdout",
     "output_type": "stream",
     "text": [
      "\b\b\b\b\b\b\b\b\b\b\b\b\b\b\b\b\b\b\b\b\b\b\b\b\b\b\b\b\b\b\b\b\b\b\b\b\b\b\b\b\b\b\b\b\b\b\b\b\b\b\b\b\b\b\b\b\b\b\b\b\b\b\b\b\b\r768/800 [===========================>..] - ETA: 0s - loss: 0.9045"
     ]
    },
    {
     "name": "stdout",
     "output_type": "stream",
     "text": [
      "\b\b\b\b\b\b\b\b\b\b\b\b\b\b\b\b\b\b\b\b\b\b\b\b\b\b\b\b\b\b\b\b\b\b\b\b\b\b\b\b\b\b\b\b\b\b\b\b\b\b\b\b\b\b\b\b\b\b\b\b\b\b\b\b\b\r800/800 [==============================] - 1s 2ms/step - loss: 0.8981 - val_loss: 1.1584\n"
     ]
    },
    {
     "name": "stdout",
     "output_type": "stream",
     "text": [
      "Epoch 19/20\n"
     ]
    },
    {
     "name": "stdout",
     "output_type": "stream",
     "text": [
      "\r 64/800 [=>............................] - ETA: 1s - loss: 0.9368"
     ]
    },
    {
     "name": "stdout",
     "output_type": "stream",
     "text": [
      "\b\b\b\b\b\b\b\b\b\b\b\b\b\b\b\b\b\b\b\b\b\b\b\b\b\b\b\b\b\b\b\b\b\b\b\b\b\b\b\b\b\b\b\b\b\b\b\b\b\b\b\b\b\b\b\b\b\b\b\b\b\b\b\b\b\r128/800 [===>..........................] - ETA: 1s - loss: 0.9265"
     ]
    },
    {
     "name": "stdout",
     "output_type": "stream",
     "text": [
      "\b\b\b\b\b\b\b\b\b\b\b\b\b\b\b\b\b\b\b\b\b\b\b\b\b\b\b\b\b\b\b\b\b\b\b\b\b\b\b\b\b\b\b\b\b\b\b\b\b\b\b\b\b\b\b\b\b\b\b\b\b\b\b\b\b\r192/800 [======>.......................] - ETA: 0s - loss: 0.9227"
     ]
    },
    {
     "name": "stdout",
     "output_type": "stream",
     "text": [
      "\b\b\b\b\b\b\b\b\b\b\b\b\b\b\b\b\b\b\b\b\b\b\b\b\b\b\b\b\b\b\b\b\b\b\b\b\b\b\b\b\b\b\b\b\b\b\b\b\b\b\b\b\b\b\b\b\b\b\b\b\b\b\b\b\b\r256/800 [========>.....................] - ETA: 0s - loss: 0.9148"
     ]
    },
    {
     "name": "stdout",
     "output_type": "stream",
     "text": [
      "\b\b\b\b\b\b\b\b\b\b\b\b\b\b\b\b\b\b\b\b\b\b\b\b\b\b\b\b\b\b\b\b\b\b\b\b\b\b\b\b\b\b\b\b\b\b\b\b\b\b\b\b\b\b\b\b\b\b\b\b\b\b\b\b\b\r320/800 [===========>..................] - ETA: 0s - loss: 0.9133"
     ]
    },
    {
     "name": "stdout",
     "output_type": "stream",
     "text": [
      "\b\b\b\b\b\b\b\b\b\b\b\b\b\b\b\b\b\b\b\b\b\b\b\b\b\b\b\b\b\b\b\b\b\b\b\b\b\b\b\b\b\b\b\b\b\b\b\b\b\b\b\b\b\b\b\b\b\b\b\b\b\b\b\b\b\r384/800 [=============>................] - ETA: 0s - loss: 0.8913"
     ]
    },
    {
     "name": "stdout",
     "output_type": "stream",
     "text": [
      "\b\b\b\b\b\b\b\b\b\b\b\b\b\b\b\b\b\b\b\b\b\b\b\b\b\b\b\b\b\b\b\b\b\b\b\b\b\b\b\b\b\b\b\b\b\b\b\b\b\b\b\b\b\b\b\b\b\b\b\b\b\b\b\b\b\r448/800 [===============>..............] - ETA: 0s - loss: 0.8840"
     ]
    },
    {
     "name": "stdout",
     "output_type": "stream",
     "text": [
      "\b\b\b\b\b\b\b\b\b\b\b\b\b\b\b\b\b\b\b\b\b\b\b\b\b\b\b\b\b\b\b\b\b\b\b\b\b\b\b\b\b\b\b\b\b\b\b\b\b\b\b\b\b\b\b\b\b\b\b\b\b\b\b\b\b\r512/800 [==================>...........] - ETA: 0s - loss: 0.8855"
     ]
    },
    {
     "name": "stdout",
     "output_type": "stream",
     "text": [
      "\b\b\b\b\b\b\b\b\b\b\b\b\b\b\b\b\b\b\b\b\b\b\b\b\b\b\b\b\b\b\b\b\b\b\b\b\b\b\b\b\b\b\b\b\b\b\b\b\b\b\b\b\b\b\b\b\b\b\b\b\b\b\b\b\b\r576/800 [====================>.........] - ETA: 0s - loss: 0.8826"
     ]
    },
    {
     "name": "stdout",
     "output_type": "stream",
     "text": [
      "\b\b\b\b\b\b\b\b\b\b\b\b\b\b\b\b\b\b\b\b\b\b\b\b\b\b\b\b\b\b\b\b\b\b\b\b\b\b\b\b\b\b\b\b\b\b\b\b\b\b\b\b\b\b\b\b\b\b\b\b\b\b\b\b\b\r640/800 [=======================>......] - ETA: 0s - loss: 0.8846"
     ]
    },
    {
     "name": "stdout",
     "output_type": "stream",
     "text": [
      "\b\b\b\b\b\b\b\b\b\b\b\b\b\b\b\b\b\b\b\b\b\b\b\b\b\b\b\b\b\b\b\b\b\b\b\b\b\b\b\b\b\b\b\b\b\b\b\b\b\b\b\b\b\b\b\b\b\b\b\b\b\b\b\b\b\r704/800 [=========================>....] - ETA: 0s - loss: 0.8847"
     ]
    },
    {
     "name": "stdout",
     "output_type": "stream",
     "text": [
      "\b\b\b\b\b\b\b\b\b\b\b\b\b\b\b\b\b\b\b\b\b\b\b\b\b\b\b\b\b\b\b\b\b\b\b\b\b\b\b\b\b\b\b\b\b\b\b\b\b\b\b\b\b\b\b\b\b\b\b\b\b\b\b\b\b\r768/800 [===========================>..] - ETA: 0s - loss: 0.8812"
     ]
    },
    {
     "name": "stdout",
     "output_type": "stream",
     "text": [
      "\b\b\b\b\b\b\b\b\b\b\b\b\b\b\b\b\b\b\b\b\b\b\b\b\b\b\b\b\b\b\b\b\b\b\b\b\b\b\b\b\b\b\b\b\b\b\b\b\b\b\b\b\b\b\b\b\b\b\b\b\b\b\b\b\b\r800/800 [==============================] - 1s 2ms/step - loss: 0.8796 - val_loss: 1.1211\n"
     ]
    },
    {
     "name": "stdout",
     "output_type": "stream",
     "text": [
      "Epoch 20/20\n"
     ]
    },
    {
     "name": "stdout",
     "output_type": "stream",
     "text": [
      "\r 64/800 [=>............................] - ETA: 1s - loss: 0.8702"
     ]
    },
    {
     "name": "stdout",
     "output_type": "stream",
     "text": [
      "\b\b\b\b\b\b\b\b\b\b\b\b\b\b\b\b\b\b\b\b\b\b\b\b\b\b\b\b\b\b\b\b\b\b\b\b\b\b\b\b\b\b\b\b\b\b\b\b\b\b\b\b\b\b\b\b\b\b\b\b\b\b\b\b\b\r128/800 [===>..........................] - ETA: 1s - loss: 0.8525"
     ]
    },
    {
     "name": "stdout",
     "output_type": "stream",
     "text": [
      "\b\b\b\b\b\b\b\b\b\b\b\b\b\b\b\b\b\b\b\b\b\b\b\b\b\b\b\b\b\b\b\b\b\b\b\b\b\b\b\b\b\b\b\b\b\b\b\b\b\b\b\b\b\b\b\b\b\b\b\b\b\b\b\b\b\r192/800 [======>.......................] - ETA: 0s - loss: 0.8669"
     ]
    },
    {
     "name": "stdout",
     "output_type": "stream",
     "text": [
      "\b\b\b\b\b\b\b\b\b\b\b\b\b\b\b\b\b\b\b\b\b\b\b\b\b\b\b\b\b\b\b\b\b\b\b\b\b\b\b\b\b\b\b\b\b\b\b\b\b\b\b\b\b\b\b\b\b\b\b\b\b\b\b\b\b\r256/800 [========>.....................] - ETA: 0s - loss: 0.8635"
     ]
    },
    {
     "name": "stdout",
     "output_type": "stream",
     "text": [
      "\b\b\b\b\b\b\b\b\b\b\b\b\b\b\b\b\b\b\b\b\b\b\b\b\b\b\b\b\b\b\b\b\b\b\b\b\b\b\b\b\b\b\b\b\b\b\b\b\b\b\b\b\b\b\b\b\b\b\b\b\b\b\b\b\b\r320/800 [===========>..................] - ETA: 0s - loss: 0.8721"
     ]
    },
    {
     "name": "stdout",
     "output_type": "stream",
     "text": [
      "\b\b\b\b\b\b\b\b\b\b\b\b\b\b\b\b\b\b\b\b\b\b\b\b\b\b\b\b\b\b\b\b\b\b\b\b\b\b\b\b\b\b\b\b\b\b\b\b\b\b\b\b\b\b\b\b\b\b\b\b\b\b\b\b\b\r384/800 [=============>................] - ETA: 0s - loss: 0.8872"
     ]
    },
    {
     "name": "stdout",
     "output_type": "stream",
     "text": [
      "\b\b\b\b\b\b\b\b\b\b\b\b\b\b\b\b\b\b\b\b\b\b\b\b\b\b\b\b\b\b\b\b\b\b\b\b\b\b\b\b\b\b\b\b\b\b\b\b\b\b\b\b\b\b\b\b\b\b\b\b\b\b\b\b\b\r448/800 [===============>..............] - ETA: 0s - loss: 0.8842"
     ]
    },
    {
     "name": "stdout",
     "output_type": "stream",
     "text": [
      "\b\b\b\b\b\b\b\b\b\b\b\b\b\b\b\b\b\b\b\b\b\b\b\b\b\b\b\b\b\b\b\b\b\b\b\b\b\b\b\b\b\b\b\b\b\b\b\b\b\b\b\b\b\b\b\b\b\b\b\b\b\b\b\b\b\r512/800 [==================>...........] - ETA: 0s - loss: 0.8790"
     ]
    },
    {
     "name": "stdout",
     "output_type": "stream",
     "text": [
      "\b\b\b\b\b\b\b\b\b\b\b\b\b\b\b\b\b\b\b\b\b\b\b\b\b\b\b\b\b\b\b\b\b\b\b\b\b\b\b\b\b\b\b\b\b\b\b\b\b\b\b\b\b\b\b\b\b\b\b\b\b\b\b\b\b\r576/800 [====================>.........] - ETA: 0s - loss: 0.8749"
     ]
    },
    {
     "name": "stdout",
     "output_type": "stream",
     "text": [
      "\b\b\b\b\b\b\b\b\b\b\b\b\b\b\b\b\b\b\b\b\b\b\b\b\b\b\b\b\b\b\b\b\b\b\b\b\b\b\b\b\b\b\b\b\b\b\b\b\b\b\b\b\b\b\b\b\b\b\b\b\b\b\b\b\b\r640/800 [=======================>......] - ETA: 0s - loss: 0.8697"
     ]
    },
    {
     "name": "stdout",
     "output_type": "stream",
     "text": [
      "\b\b\b\b\b\b\b\b\b\b\b\b\b\b\b\b\b\b\b\b\b\b\b\b\b\b\b\b\b\b\b\b\b\b\b\b\b\b\b\b\b\b\b\b\b\b\b\b\b\b\b\b\b\b\b\b\b\b\b\b\b\b\b\b\b\r704/800 [=========================>....] - ETA: 0s - loss: 0.8607"
     ]
    },
    {
     "name": "stdout",
     "output_type": "stream",
     "text": [
      "\b\b\b\b\b\b\b\b\b\b\b\b\b\b\b\b\b\b\b\b\b\b\b\b\b\b\b\b\b\b\b\b\b\b\b\b\b\b\b\b\b\b\b\b\b\b\b\b\b\b\b\b\b\b\b\b\b\b\b\b\b\b\b\b\b\r768/800 [===========================>..] - ETA: 0s - loss: 0.8532"
     ]
    },
    {
     "name": "stdout",
     "output_type": "stream",
     "text": [
      "\b\b\b\b\b\b\b\b\b\b\b\b\b\b\b\b\b\b\b\b\b\b\b\b\b\b\b\b\b\b\b\b\b\b\b\b\b\b\b\b\b\b\b\b\b\b\b\b\b\b\b\b\b\b\b\b\b\b\b\b\b\b\b\b\b\r800/800 [==============================] - 1s 2ms/step - loss: 0.8566 - val_loss: 1.1133\n"
     ]
    },
    {
     "name": "stderr",
     "output_type": "stream",
     "text": [
      "/Users/kadam/.virtualenvs/chat/lib/python3.6/site-packages/keras/engine/network.py:877: UserWarning: Layer lstm_2 was passed non-serializable keyword arguments: {'initial_state': [<tf.Tensor 'lstm_1/while/Exit_2:0' shape=(?, 256) dtype=float32>, <tf.Tensor 'lstm_1/while/Exit_3:0' shape=(?, 256) dtype=float32>]}. They will not be included in the serialized model (and thus will be missing at deserialization time).\n  '. They will not be included '\n"
     ]
    },
    {
     "name": "stderr",
     "output_type": "stream",
     "text": [
      "/Users/kadam/.virtualenvs/chat/lib/python3.6/site-packages/keras/engine/network.py:877: UserWarning: Layer lstm_2 was passed non-serializable keyword arguments: {'initial_state': [<tf.Tensor 'input_3:0' shape=(?, 256) dtype=float32>, <tf.Tensor 'input_4:0' shape=(?, 256) dtype=float32>]}. They will not be included in the serialized model (and thus will be missing at deserialization time).\n  '. They will not be included '\n"
     ]
    }
   ],
   "source": [
    "model.train(dataset.encoder_input_seqs, dataset.decoder_input_seqs, dataset.decoder_target_seqs, epochs=20)\n"
   ]
  },
  {
   "cell_type": "code",
   "execution_count": 7,
   "metadata": {},
   "outputs": [
    {
     "name": "stdout",
     "output_type": "stream",
     "text": [
      "-\nInput sentence: Go.\nExpected sentence: Va !\nInput sequence: [[20, 51, 5]]\nExpected sequence: [35, 36, 2, 3]\nPredicted sentence: [14, 55, 55, 40, 49, 55, 40, 2, 3, 1]\nPredicted sentence: Attente !\n\n-\nInput sentence: Hi.\nExpected sentence: Salut !\nInput sequence: [[21, 45, 5]]\nExpected sequence: [32, 36, 47, 56, 55, 2, 3]\nPredicted sentence: [14, 55, 55, 40, 60, 2, 3, 1]\nPredicted sentence: Attez !\n\n-\nInput sentence: Run!\nExpected sentence: Cours !\nInput sequence: [[30, 57, 50, 1]]\nExpected sequence: [16, 50, 56, 53, 54, 76, 3]\nPredicted sentence: [14, 55, 55, 40, 60, 2, 3, 1]\nPredicted sentence: Attez !\n\n-\nInput sentence: Run!\nExpected sentence: Courez !\nInput sequence: [[30, 57, 50, 1]]\nExpected sequence: [16, 50, 56, 53, 40, 60, 76, 3]\nPredicted sentence: [14, 55, 55, 40, 60, 2, 3, 1]\nPredicted sentence: Attez !\n\n-\nInput sentence: Who?\nExpected sentence: Qui ?\nInput sequence: [[35, 44, 51, 13]]\nExpected sequence: [30, 56, 44, 2, 13]\nPredicted sentence: [14, 55, 55, 40, 60, 2, 3, 1]\nPredicted sentence: Attez !\n\n-\nInput sentence: Wow!\nExpected sentence: Ça alors !\nInput sequence: [[35, 51, 59, 1]]\nExpected sequence: [63, 36, 2, 36, 47, 50, 53, 54, 76, 3]\nPredicted sentence: [33, 50, 56, 54, 2, 40, 2, 48, 50, 44, 2, 3, 1]\nPredicted sentence: Tous e moi !\n\n-\nInput sentence: Fire!\nExpected sentence: Au feu !\nInput sequence: [[19, 45, 54, 41, 1]]\nExpected sequence: [14, 56, 2, 41, 40, 56, 2, 3]\nPredicted sentence: [14, 55, 55, 40, 49, 55, 40, 60, 2, 3, 1]\nPredicted sentence: Attentez !\n\n-\nInput sentence: Help!\nExpected sentence: À l'aide !\nInput sequence: [[21, 41, 48, 52, 1]]\nExpected sequence: [62, 2, 47, 4, 36, 44, 39, 40, 76, 3]\nPredicted sentence: [14, 44, 54, 40, 60, 6, 47, 40, 2, 3, 1]\nPredicted sentence: Aisez-le !\n\n-\nInput sentence: Jump.\nExpected sentence: Saute.\nInput sequence: [[23, 57, 49, 52, 5]]\nExpected sequence: [32, 36, 56, 55, 40, 7]\nPredicted sentence: [14, 55, 55, 40, 49, 55, 40, 2, 3, 1]\nPredicted sentence: Attente !\n\n-\nInput sentence: Stop!\nExpected sentence: Ça suffit !\nInput sequence: [[31, 56, 51, 52, 1]]\nExpected sequence: [63, 36, 2, 54, 56, 41, 41, 44, 55, 76, 3]\nPredicted sentence: [14, 55, 55, 40, 60, 2, 3, 1]\nPredicted sentence: Attez !\n\n-\nInput sentence: Stop!\nExpected sentence: Stop !\nInput sequence: [[31, 56, 51, 52, 1]]\nExpected sequence: [32, 55, 50, 51, 76, 3]\nPredicted sentence: [14, 55, 55, 40, 60, 2, 3, 1]\nPredicted sentence: Attez !\n\n-\nInput sentence: Stop!\nExpected sentence: Arrête-toi !\nInput sequence: [[31, 56, 51, 52, 1]]\nExpected sequence: [14, 53, 53, 70, 55, 40, 6, 55, 50, 44, 2, 3]\nPredicted sentence: [14, 55, 55, 40, 60, 2, 3, 1]\nPredicted sentence: Attez !\n\n-\nInput sentence: Wait!\nExpected sentence: Attends !\nInput sequence: [[35, 37, 45, 56, 1]]\nExpected sequence: [14, 55, 55, 40, 49, 39, 54, 2, 3]\nPredicted sentence: [14, 55, 55, 40, 49, 55, 40, 60, 2, 3, 1]\nPredicted sentence: Attentez !\n\n-\nInput sentence: Wait!\nExpected sentence: Attendez !\nInput sequence: [[35, 37, 45, 56, 1]]\nExpected sequence: [14, 55, 55, 40, 49, 39, 40, 60, 2, 3]\nPredicted sentence: [14, 55, 55, 40, 49, 55, 40, 60, 2, 3, 1]\nPredicted sentence: Attentez !\n\n-\nInput sentence: Go on.\nExpected sentence: Poursuis.\nInput sequence: [[20, 51, 0, 51, 50, 5]]\nExpected sequence: [29, 50, 56, 53, 54, 56, 44, 54, 7]\nPredicted sentence: [14, 44, 54, 40, 60, 6, 47, 40, 2, 3, 1]\nPredicted sentence: Aisez-le !\n\n-\nInput sentence: Go on.\nExpected sentence: Continuez.\nInput sequence: [[20, 51, 0, 51, 50, 5]]\nExpected sequence: [16, 50, 49, 55, 44, 49, 56, 40, 60, 7]\nPredicted sentence: [14, 44, 54, 40, 60, 6, 47, 40, 2, 3, 1]\nPredicted sentence: Aisez-le !\n\n-\nInput sentence: Go on.\nExpected sentence: Poursuivez.\nInput sequence: [[20, 51, 0, 51, 50, 5]]\nExpected sequence: [29, 50, 56, 53, 54, 56, 44, 57, 40, 60, 7]\nPredicted sentence: [14, 44, 54, 40, 60, 6, 47, 40, 2, 3, 1]\nPredicted sentence: Aisez-le !\n\n-\nInput sentence: Hello!\nExpected sentence: Bonjour !\nInput sequence: [[21, 41, 48, 48, 51, 1]]\nExpected sequence: [15, 50, 49, 45, 50, 56, 53, 2, 3]\nPredicted sentence: [14, 44, 54, 40, 60, 6, 47, 40, 2, 3, 1]\nPredicted sentence: Aisez-le !\n\n-\nInput sentence: Hello!\nExpected sentence: Salut !\nInput sequence: [[21, 41, 48, 48, 51, 1]]\nExpected sequence: [32, 36, 47, 56, 55, 2, 3]\nPredicted sentence: [14, 44, 54, 40, 60, 6, 47, 40, 2, 3, 1]\nPredicted sentence: Aisez-le !\n\n-\nInput sentence: I see.\nExpected sentence: Je comprends.\nInput sequence: [[22, 0, 55, 41, 41, 5]]\nExpected sequence: [23, 40, 2, 38, 50, 48, 51, 53, 40, 49, 39, 54, 7]\nPredicted sentence: [23, 40, 2, 54, 56, 44, 54, 2, 41, 36, 44, 55, 2, 3, 1]\nPredicted sentence: Je suis fait !\n\n-\nInput sentence: I try.\nExpected sentence: J'essaye.\nInput sequence: [[22, 0, 56, 54, 61, 5]]\nExpected sequence: [23, 4, 40, 54, 54, 36, 59, 40, 7]\nPredicted sentence: [23, 40, 2, 54, 56, 44, 54, 2, 41, 36, 44, 55, 2, 3, 1]\nPredicted sentence: Je suis fait !\n\n-\nInput sentence: I won!\nExpected sentence: J'ai gagné !\nInput sequence: [[22, 0, 59, 51, 50, 1]]\nExpected sequence: [23, 4, 36, 44, 2, 42, 36, 42, 49, 69, 2, 3]\nPredicted sentence: [23, 40, 2, 54, 56, 44, 54, 2, 41, 36, 44, 55, 2, 3, 1]\nPredicted sentence: Je suis fait !\n\n-\nInput sentence: I won!\nExpected sentence: Je l'ai emporté !\nInput sequence: [[22, 0, 59, 51, 50, 1]]\nExpected sequence: [23, 40, 2, 47, 4, 36, 44, 2, 40, 48, 51, 50, 53, 55, 69, 2, 3]\nPredicted sentence: [23, 40, 2, 54, 56, 44, 54, 2, 41, 36, 44, 55, 2, 3, 1]\nPredicted sentence: Je suis fait !\n\n-\nInput sentence: I won.\nExpected sentence: J’ai gagné.\nInput sequence: [[22, 0, 59, 51, 50, 5]]\nExpected sequence: [23, 75, 36, 44, 2, 42, 36, 42, 49, 69, 7]\nPredicted sentence: [23, 40, 2, 54, 56, 44, 54, 2, 41, 36, 44, 55, 2, 3, 1]\nPredicted sentence: Je suis fait !\n\n-\nInput sentence: Oh no!\nExpected sentence: Oh non !\nInput sequence: [[28, 44, 0, 50, 51, 1]]\nExpected sequence: [28, 43, 2, 49, 50, 49, 2, 3]\nPredicted sentence: [33, 50, 56, 54, 2, 40, 2, 48, 50, 44, 2, 3, 1]\nPredicted sentence: Tous e moi !\n\n"
     ]
    },
    {
     "name": "stdout",
     "output_type": "stream",
     "text": [
      "-\nInput sentence: Attack!\nExpected sentence: Attaque !\nInput sequence: [[14, 56, 56, 37, 39, 47, 1]]\nExpected sequence: [14, 55, 55, 36, 52, 56, 40, 2, 3]\nPredicted sentence: [14, 55, 55, 40, 49, 55, 40, 60, 2, 3, 1]\nPredicted sentence: Attentez !\n\n-\nInput sentence: Attack!\nExpected sentence: Attaquez !\nInput sequence: [[14, 56, 56, 37, 39, 47, 1]]\nExpected sequence: [14, 55, 55, 36, 52, 56, 40, 60, 2, 3]\nPredicted sentence: [14, 55, 55, 40, 49, 55, 40, 60, 2, 3, 1]\nPredicted sentence: Attentez !\n\n-\nInput sentence: Cheers!\nExpected sentence: Santé !\nInput sequence: [[16, 44, 41, 41, 54, 55, 1]]\nExpected sequence: [32, 36, 49, 55, 69, 2, 3]\nPredicted sentence: [14, 55, 55, 40, 60, 2, 3, 1]\nPredicted sentence: Attez !\n\n-\nInput sentence: Cheers!\nExpected sentence: À votre santé !\nInput sequence: [[16, 44, 41, 41, 54, 55, 1]]\nExpected sequence: [62, 2, 57, 50, 55, 53, 40, 2, 54, 36, 49, 55, 69, 2, 3]\nPredicted sentence: [14, 55, 55, 40, 60, 2, 3, 1]\nPredicted sentence: Attez !\n\n-\nInput sentence: Cheers!\nExpected sentence: Merci !\nInput sequence: [[16, 44, 41, 41, 54, 55, 1]]\nExpected sequence: [26, 40, 53, 38, 44, 2, 3]\nPredicted sentence: [14, 55, 55, 40, 60, 2, 3, 1]\nPredicted sentence: Attez !\n\n-\nInput sentence: Cheers!\nExpected sentence: Tchin-tchin !\nInput sequence: [[16, 44, 41, 41, 54, 55, 1]]\nExpected sequence: [33, 38, 43, 44, 49, 6, 55, 38, 43, 44, 49, 2, 3]\nPredicted sentence: [14, 55, 55, 40, 60, 2, 3, 1]\nPredicted sentence: Attez !\n\n-\nInput sentence: Get up.\nExpected sentence: Lève-toi.\nInput sequence: [[20, 41, 56, 0, 57, 52, 5]]\nExpected sequence: [25, 68, 57, 40, 6, 55, 50, 44, 7]\nPredicted sentence: [14, 55, 55, 40, 60, 2, 3, 1]\nPredicted sentence: Attez !\n\n-\nInput sentence: Go now.\nExpected sentence: Va, maintenant.\nInput sequence: [[20, 51, 0, 50, 51, 59, 5]]\nExpected sequence: [35, 36, 5, 2, 48, 36, 44, 49, 55, 40, 49, 36, 49, 55, 7]\nPredicted sentence: [14, 44, 54, 40, 60, 6, 47, 40, 2, 3, 1]\nPredicted sentence: Aisez-le !\n\n-\nInput sentence: Go now.\nExpected sentence: Allez-y maintenant.\nInput sequence: [[20, 51, 0, 50, 51, 59, 5]]\nExpected sequence: [14, 47, 47, 40, 60, 6, 59, 2, 48, 36, 44, 49, 55, 40, 49, 36, 49, 55, 7]\nPredicted sentence: [14, 44, 54, 40, 60, 6, 47, 40, 2, 3, 1]\nPredicted sentence: Aisez-le !\n\n-\nInput sentence: Go now.\nExpected sentence: Vas-y maintenant.\nInput sequence: [[20, 51, 0, 50, 51, 59, 5]]\nExpected sequence: [35, 36, 54, 6, 59, 2, 48, 36, 44, 49, 55, 40, 49, 36, 49, 55, 7]\nPredicted sentence: [14, 44, 54, 40, 60, 6, 47, 40, 2, 3, 1]\nPredicted sentence: Aisez-le !\n\n-\nInput sentence: Got it!\nExpected sentence: J'ai pigé !\nInput sequence: [[20, 51, 56, 0, 45, 56, 1]]\nExpected sequence: [23, 4, 36, 44, 2, 51, 44, 42, 69, 2, 3]\nPredicted sentence: [14, 55, 55, 40, 60, 2, 3, 1]\nPredicted sentence: Attez !\n\n-\nInput sentence: Got it!\nExpected sentence: Compris !\nInput sequence: [[20, 51, 56, 0, 45, 56, 1]]\nExpected sequence: [16, 50, 48, 51, 53, 44, 54, 2, 3]\nPredicted sentence: [14, 55, 55, 40, 60, 2, 3, 1]\nPredicted sentence: Attez !\n\n-\nInput sentence: Got it?\nExpected sentence: Pigé ?\nInput sequence: [[20, 51, 56, 0, 45, 56, 13]]\nExpected sequence: [29, 44, 42, 69, 76, 13]\nPredicted sentence: [14, 55, 55, 40, 60, 2, 3, 1]\nPredicted sentence: Attez !\n\n-\nInput sentence: Got it?\nExpected sentence: Compris ?\nInput sequence: [[20, 51, 56, 0, 45, 56, 13]]\nExpected sequence: [16, 50, 48, 51, 53, 44, 54, 76, 13]\nPredicted sentence: [14, 55, 55, 40, 60, 2, 3, 1]\nPredicted sentence: Attez !\n\n-\nInput sentence: Got it?\nExpected sentence: T'as capté ?\nInput sequence: [[20, 51, 56, 0, 45, 56, 13]]\nExpected sequence: [33, 4, 36, 54, 2, 38, 36, 51, 55, 69, 76, 13]\nPredicted sentence: [14, 55, 55, 40, 60, 2, 3, 1]\nPredicted sentence: Attez !\n\n-\nInput sentence: Hop in.\nExpected sentence: Monte.\nInput sequence: [[21, 51, 52, 0, 45, 50, 5]]\nExpected sequence: [26, 50, 49, 55, 40, 7]\nPredicted sentence: [14, 44, 54, 40, 60, 6, 47, 40, 2, 3, 1]\nPredicted sentence: Aisez-le !\n\n-\nInput sentence: Hop in.\nExpected sentence: Montez.\nInput sequence: [[21, 51, 52, 0, 45, 50, 5]]\nExpected sequence: [26, 50, 49, 55, 40, 60, 7]\nPredicted sentence: [14, 44, 54, 40, 60, 6, 47, 40, 2, 3, 1]\nPredicted sentence: Aisez-le !\n\n-\nInput sentence: Hug me.\nExpected sentence: Serre-moi dans tes bras !\nInput sequence: [[21, 57, 43, 0, 49, 41, 5]]\nExpected sequence: [32, 40, 53, 53, 40, 6, 48, 50, 44, 2, 39, 36, 49, 54, 2, 55, 40, 54, 2, 37, 53, 36, 54, 2, 3]\nPredicted sentence: [14, 44, 54, 40, 60, 6, 47, 40, 2, 3, 1]\nPredicted sentence: Aisez-le !\n\n-\nInput sentence: Hug me.\nExpected sentence: Serrez-moi dans vos bras !\nInput sequence: [[21, 57, 43, 0, 49, 41, 5]]\nExpected sequence: [32, 40, 53, 53, 40, 60, 6, 48, 50, 44, 2, 39, 36, 49, 54, 2, 57, 50, 54, 2, 37, 53, 36, 54, 2, 3]\nPredicted sentence: [14, 44, 54, 40, 60, 6, 47, 40, 2, 3, 1]\nPredicted sentence: Aisez-le !\n\n-\nInput sentence: I fell.\nExpected sentence: Je suis tombée.\nInput sequence: [[22, 0, 42, 41, 48, 48, 5]]\nExpected sequence: [23, 40, 2, 54, 56, 44, 54, 2, 55, 50, 48, 37, 69, 40, 7]\nPredicted sentence: [23, 40, 2, 54, 56, 44, 54, 2, 41, 36, 44, 55, 2, 3, 1]\nPredicted sentence: Je suis fait !\n\n-\nInput sentence: I fell.\nExpected sentence: Je suis tombé.\nInput sequence: [[22, 0, 42, 41, 48, 48, 5]]\nExpected sequence: [23, 40, 2, 54, 56, 44, 54, 2, 55, 50, 48, 37, 69, 7]\nPredicted sentence: [23, 40, 2, 54, 56, 44, 54, 2, 41, 36, 44, 55, 2, 3, 1]\nPredicted sentence: Je suis fait !\n\n-\nInput sentence: I know.\nExpected sentence: Je sais.\nInput sequence: [[22, 0, 47, 50, 51, 59, 5]]\nExpected sequence: [23, 40, 2, 54, 36, 44, 54, 7]\nPredicted sentence: [23, 40, 2, 54, 56, 44, 54, 2, 41, 36, 44, 55, 2, 3, 1]\nPredicted sentence: Je suis fait !\n\n-\nInput sentence: I left.\nExpected sentence: Je suis parti.\nInput sequence: [[22, 0, 48, 41, 42, 56, 5]]\nExpected sequence: [23, 40, 2, 54, 56, 44, 54, 2, 51, 36, 53, 55, 44, 7]\nPredicted sentence: [23, 40, 2, 54, 56, 44, 54, 2, 41, 36, 44, 55, 2, 3, 1]\nPredicted sentence: Je suis fait !\n\n-\nInput sentence: I left.\nExpected sentence: Je suis partie.\nInput sequence: [[22, 0, 48, 41, 42, 56, 5]]\nExpected sequence: [23, 40, 2, 54, 56, 44, 54, 2, 51, 36, 53, 55, 44, 40, 7]\nPredicted sentence: [23, 40, 2, 54, 56, 44, 54, 2, 41, 36, 44, 55, 2, 3, 1]\nPredicted sentence: Je suis fait !\n\n"
     ]
    },
    {
     "name": "stdout",
     "output_type": "stream",
     "text": [
      "-\nInput sentence: I lost.\nExpected sentence: J'ai perdu.\nInput sequence: [[22, 0, 48, 51, 55, 56, 5]]\nExpected sequence: [23, 4, 36, 44, 2, 51, 40, 53, 39, 56, 7]\nPredicted sentence: [23, 40, 2, 54, 56, 44, 54, 2, 41, 36, 44, 55, 2, 3, 1]\nPredicted sentence: Je suis fait !\n\n-\nInput sentence: I paid.\nExpected sentence: J’ai payé.\nInput sequence: [[22, 0, 52, 37, 45, 40, 5]]\nExpected sequence: [23, 75, 36, 44, 2, 51, 36, 59, 69, 7]\nPredicted sentence: [23, 40, 2, 54, 56, 44, 54, 2, 41, 36, 44, 55, 2, 3, 1]\nPredicted sentence: Je suis fait !\n\n-\nInput sentence: I'm 19.\nExpected sentence: J'ai 19 ans.\nInput sequence: [[22, 3, 49, 0, 7, 11, 5]]\nExpected sequence: [23, 4, 36, 44, 2, 9, 12, 2, 36, 49, 54, 7]\nPredicted sentence: [23, 40, 2, 54, 56, 44, 54, 2, 41, 36, 44, 54, 2, 3, 1]\nPredicted sentence: Je suis fais !\n\n-\nInput sentence: I'm OK.\nExpected sentence: Je vais bien.\nInput sequence: [[22, 3, 49, 0, 28, 24, 5]]\nExpected sequence: [23, 40, 2, 57, 36, 44, 54, 2, 37, 44, 40, 49, 7]\nPredicted sentence: [23, 40, 2, 54, 56, 44, 54, 2, 41, 36, 44, 54, 2, 3, 1]\nPredicted sentence: Je suis fais !\n\n-\nInput sentence: I'm OK.\nExpected sentence: Ça va.\nInput sequence: [[22, 3, 49, 0, 28, 24, 5]]\nExpected sequence: [63, 36, 2, 57, 36, 7]\nPredicted sentence: [23, 40, 2, 54, 56, 44, 54, 2, 41, 36, 44, 54, 2, 3, 1]\nPredicted sentence: Je suis fais !\n\n-\nInput sentence: Listen.\nExpected sentence: Écoutez !\nInput sequence: [[25, 45, 55, 56, 41, 50, 5]]\nExpected sequence: [64, 38, 50, 56, 55, 40, 60, 2, 3]\nPredicted sentence: [14, 55, 55, 40, 49, 55, 40, 60, 2, 3, 1]\nPredicted sentence: Attentez !\n\n-\nInput sentence: No way!\nExpected sentence: C'est pas possible !\nInput sequence: [[27, 51, 0, 59, 37, 61, 1]]\nExpected sequence: [16, 4, 40, 54, 55, 2, 51, 36, 54, 2, 51, 50, 54, 54, 44, 37, 47, 40, 76, 3]\nPredicted sentence: [16, 50, 56, 54, 2, 40, 2, 55, 50, 44, 2, 3, 1]\nPredicted sentence: Cous e toi !\n\n-\nInput sentence: No way!\nExpected sentence: Impossible !\nInput sequence: [[27, 51, 0, 59, 37, 61, 1]]\nExpected sequence: [22, 48, 51, 50, 54, 54, 44, 37, 47, 40, 76, 3]\nPredicted sentence: [16, 50, 56, 54, 2, 40, 2, 55, 50, 44, 2, 3, 1]\nPredicted sentence: Cous e toi !\n\n-\nInput sentence: No way!\nExpected sentence: En aucun cas.\nInput sequence: [[27, 51, 0, 59, 37, 61, 1]]\nExpected sequence: [18, 49, 2, 36, 56, 38, 56, 49, 2, 38, 36, 54, 7]\nPredicted sentence: [16, 50, 56, 54, 2, 40, 2, 55, 50, 44, 2, 3, 1]\nPredicted sentence: Cous e toi !\n\n-\nInput sentence: No way!\nExpected sentence: Sans façons !\nInput sequence: [[27, 51, 0, 59, 37, 61, 1]]\nExpected sequence: [32, 36, 49, 54, 2, 41, 36, 67, 50, 49, 54, 76, 3]\nPredicted sentence: [16, 50, 56, 54, 2, 40, 2, 55, 50, 44, 2, 3, 1]\nPredicted sentence: Cous e toi !\n\n-\nInput sentence: No way!\nExpected sentence: C'est hors de question !\nInput sequence: [[27, 51, 0, 59, 37, 61, 1]]\nExpected sequence: [16, 4, 40, 54, 55, 2, 43, 50, 53, 54, 2, 39, 40, 2, 52, 56, 40, 54, 55, 44, 50, 49, 2, 3]\nPredicted sentence: [16, 50, 56, 54, 2, 40, 2, 55, 50, 44, 2, 3, 1]\nPredicted sentence: Cous e toi !\n\n-\nInput sentence: No way!\nExpected sentence: Il n'en est pas question !\nInput sequence: [[27, 51, 0, 59, 37, 61, 1]]\nExpected sequence: [22, 47, 2, 49, 4, 40, 49, 2, 40, 54, 55, 2, 51, 36, 54, 2, 52, 56, 40, 54, 55, 44, 50, 49, 2, 3]\nPredicted sentence: [16, 50, 56, 54, 2, 40, 2, 55, 50, 44, 2, 3, 1]\nPredicted sentence: Cous e toi !\n\n-\nInput sentence: No way!\nExpected sentence: C'est exclu !\nInput sequence: [[27, 51, 0, 59, 37, 61, 1]]\nExpected sequence: [16, 4, 40, 54, 55, 2, 40, 58, 38, 47, 56, 2, 3]\nPredicted sentence: [16, 50, 56, 54, 2, 40, 2, 55, 50, 44, 2, 3, 1]\nPredicted sentence: Cous e toi !\n\n-\nInput sentence: No way!\nExpected sentence: En aucune manière !\nInput sequence: [[27, 51, 0, 59, 37, 61, 1]]\nExpected sequence: [18, 49, 2, 36, 56, 38, 56, 49, 40, 2, 48, 36, 49, 44, 68, 53, 40, 2, 3]\nPredicted sentence: [16, 50, 56, 54, 2, 40, 2, 55, 50, 44, 2, 3, 1]\nPredicted sentence: Cous e toi !\n\n-\nInput sentence: No way!\nExpected sentence: Hors de question !\nInput sequence: [[27, 51, 0, 59, 37, 61, 1]]\nExpected sequence: [21, 50, 53, 54, 2, 39, 40, 2, 52, 56, 40, 54, 55, 44, 50, 49, 2, 3]\nPredicted sentence: [16, 50, 56, 54, 2, 40, 2, 55, 50, 44, 2, 3, 1]\nPredicted sentence: Cous e toi !\n\n-\nInput sentence: Really?\nExpected sentence: Vraiment ?\nInput sequence: [[30, 41, 37, 48, 48, 61, 13]]\nExpected sequence: [35, 53, 36, 44, 48, 40, 49, 55, 76, 13]\nPredicted sentence: [14, 55, 55, 40, 60, 2, 3, 1]\nPredicted sentence: Attez !\n\n-\nInput sentence: Really?\nExpected sentence: Vrai ?\nInput sequence: [[30, 41, 37, 48, 48, 61, 13]]\nExpected sequence: [35, 53, 36, 44, 2, 13]\nPredicted sentence: [14, 55, 55, 40, 60, 2, 3, 1]\nPredicted sentence: Attez !\n\n-\nInput sentence: Really?\nExpected sentence: Ah bon ?\nInput sequence: [[30, 41, 37, 48, 48, 61, 13]]\nExpected sequence: [14, 43, 2, 37, 50, 49, 2, 13]\nPredicted sentence: [14, 55, 55, 40, 60, 2, 3, 1]\nPredicted sentence: Attez !\n\n-\nInput sentence: Thanks.\nExpected sentence: Merci !\nInput sequence: [[32, 44, 37, 50, 47, 55, 5]]\nExpected sequence: [26, 40, 53, 38, 44, 2, 3]\nPredicted sentence: [14, 55, 55, 40, 60, 2, 3, 1]\nPredicted sentence: Attez !\n\n-\nInput sentence: We try.\nExpected sentence: On essaye.\nInput sequence: [[35, 41, 0, 56, 54, 61, 5]]\nExpected sequence: [28, 49, 2, 40, 54, 54, 36, 59, 40, 7]\nPredicted sentence: [33, 50, 56, 54, 2, 40, 2, 48, 50, 44, 2, 3, 1]\nPredicted sentence: Tous e moi !\n\n-\nInput sentence: We won.\nExpected sentence: Nous avons gagné.\nInput sequence: [[35, 41, 0, 59, 51, 50, 5]]\nExpected sequence: [27, 50, 56, 54, 2, 36, 57, 50, 49, 54, 2, 42, 36, 42, 49, 69, 7]\nPredicted sentence: [33, 50, 56, 54, 2, 40, 2, 55, 50, 44, 54, 2, 3, 1]\nPredicted sentence: Tous e tois !\n\n-\nInput sentence: We won.\nExpected sentence: Nous gagnâmes.\nInput sequence: [[35, 41, 0, 59, 51, 50, 5]]\nExpected sequence: [27, 50, 56, 54, 2, 42, 36, 42, 49, 66, 48, 40, 54, 7]\nPredicted sentence: [33, 50, 56, 54, 2, 40, 2, 55, 50, 44, 54, 2, 3, 1]\nPredicted sentence: Tous e tois !\n\n-\nInput sentence: We won.\nExpected sentence: Nous l'avons emporté.\nInput sequence: [[35, 41, 0, 59, 51, 50, 5]]\nExpected sequence: [27, 50, 56, 54, 2, 47, 4, 36, 57, 50, 49, 54, 2, 40, 48, 51, 50, 53, 55, 69, 7]\nPredicted sentence: [33, 50, 56, 54, 2, 40, 2, 55, 50, 44, 54, 2, 3, 1]\nPredicted sentence: Tous e tois !\n\n-\nInput sentence: We won.\nExpected sentence: Nous l'emportâmes.\nInput sequence: [[35, 41, 0, 59, 51, 50, 5]]\nExpected sequence: [27, 50, 56, 54, 2, 47, 4, 40, 48, 51, 50, 53, 55, 66, 48, 40, 54, 7]\nPredicted sentence: [33, 50, 56, 54, 2, 40, 2, 55, 50, 44, 54, 2, 3, 1]\nPredicted sentence: Tous e tois !\n\n"
     ]
    },
    {
     "name": "stdout",
     "output_type": "stream",
     "text": [
      "-\nInput sentence: Ask Tom.\nExpected sentence: Demande à Tom.\nInput sequence: [[14, 55, 47, 0, 32, 51, 49, 5]]\nExpected sequence: [17, 40, 48, 36, 49, 39, 40, 2, 65, 2, 33, 50, 48, 7]\nPredicted sentence: [14, 55, 55, 40, 49, 55, 40, 60, 2, 3, 1]\nPredicted sentence: Attentez !\n\n-\nInput sentence: Awesome!\nExpected sentence: Fantastique !\nInput sequence: [[14, 59, 41, 55, 51, 49, 41, 1]]\nExpected sequence: [19, 36, 49, 55, 36, 54, 55, 44, 52, 56, 40, 76, 3]\nPredicted sentence: [14, 55, 55, 40, 49, 55, 40, 60, 2, 3, 1]\nPredicted sentence: Attentez !\n\n-\nInput sentence: Be calm.\nExpected sentence: Sois calme !\nInput sequence: [[15, 41, 0, 39, 37, 48, 49, 5]]\nExpected sequence: [32, 50, 44, 54, 2, 38, 36, 47, 48, 40, 2, 3]\nPredicted sentence: [33, 50, 56, 54, 2, 40, 2, 48, 50, 44, 2, 3, 1]\nPredicted sentence: Tous e moi !\n\n-\nInput sentence: Be calm.\nExpected sentence: Soyez calme !\nInput sequence: [[15, 41, 0, 39, 37, 48, 49, 5]]\nExpected sequence: [32, 50, 59, 40, 60, 2, 38, 36, 47, 48, 40, 2, 3]\nPredicted sentence: [33, 50, 56, 54, 2, 40, 2, 48, 50, 44, 2, 3, 1]\nPredicted sentence: Tous e moi !\n\n-\nInput sentence: Be calm.\nExpected sentence: Soyez calmes !\nInput sequence: [[15, 41, 0, 39, 37, 48, 49, 5]]\nExpected sequence: [32, 50, 59, 40, 60, 2, 38, 36, 47, 48, 40, 54, 2, 3]\nPredicted sentence: [33, 50, 56, 54, 2, 40, 2, 48, 50, 44, 2, 3, 1]\nPredicted sentence: Tous e moi !\n\n-\nInput sentence: Be cool.\nExpected sentence: Sois détendu !\nInput sequence: [[15, 41, 0, 39, 51, 51, 48, 5]]\nExpected sequence: [32, 50, 44, 54, 2, 39, 69, 55, 40, 49, 39, 56, 2, 3]\nPredicted sentence: [33, 50, 56, 54, 2, 40, 2, 48, 50, 44, 2, 3, 1]\nPredicted sentence: Tous e moi !\n\n-\nInput sentence: Be fair.\nExpected sentence: Sois juste !\nInput sequence: [[15, 41, 0, 42, 37, 45, 54, 5]]\nExpected sequence: [32, 50, 44, 54, 2, 45, 56, 54, 55, 40, 2, 3]\nPredicted sentence: [33, 50, 56, 54, 2, 40, 2, 48, 50, 44, 2, 3, 1]\nPredicted sentence: Tous e moi !\n\n-\nInput sentence: Be fair.\nExpected sentence: Soyez juste !\nInput sequence: [[15, 41, 0, 42, 37, 45, 54, 5]]\nExpected sequence: [32, 50, 59, 40, 60, 2, 45, 56, 54, 55, 40, 2, 3]\nPredicted sentence: [33, 50, 56, 54, 2, 40, 2, 48, 50, 44, 2, 3, 1]\nPredicted sentence: Tous e moi !\n\n-\nInput sentence: Be fair.\nExpected sentence: Soyez justes !\nInput sequence: [[15, 41, 0, 42, 37, 45, 54, 5]]\nExpected sequence: [32, 50, 59, 40, 60, 2, 45, 56, 54, 55, 40, 54, 2, 3]\nPredicted sentence: [33, 50, 56, 54, 2, 40, 2, 48, 50, 44, 2, 3, 1]\nPredicted sentence: Tous e moi !\n\n-\nInput sentence: Be fair.\nExpected sentence: Sois équitable !\nInput sequence: [[15, 41, 0, 42, 37, 45, 54, 5]]\nExpected sequence: [32, 50, 44, 54, 2, 69, 52, 56, 44, 55, 36, 37, 47, 40, 2, 3]\nPredicted sentence: [33, 50, 56, 54, 2, 40, 2, 48, 50, 44, 2, 3, 1]\nPredicted sentence: Tous e moi !\n\n-\nInput sentence: Be fair.\nExpected sentence: Soyez équitable !\nInput sequence: [[15, 41, 0, 42, 37, 45, 54, 5]]\nExpected sequence: [32, 50, 59, 40, 60, 2, 69, 52, 56, 44, 55, 36, 37, 47, 40, 2, 3]\nPredicted sentence: [33, 50, 56, 54, 2, 40, 2, 48, 50, 44, 2, 3, 1]\nPredicted sentence: Tous e moi !\n\n-\nInput sentence: Be fair.\nExpected sentence: Soyez équitables !\nInput sequence: [[15, 41, 0, 42, 37, 45, 54, 5]]\nExpected sequence: [32, 50, 59, 40, 60, 2, 69, 52, 56, 44, 55, 36, 37, 47, 40, 54, 2, 3]\nPredicted sentence: [33, 50, 56, 54, 2, 40, 2, 48, 50, 44, 2, 3, 1]\nPredicted sentence: Tous e moi !\n\n-\nInput sentence: Be kind.\nExpected sentence: Sois gentil.\nInput sequence: [[15, 41, 0, 47, 45, 50, 40, 5]]\nExpected sequence: [32, 50, 44, 54, 2, 42, 40, 49, 55, 44, 47, 7]\nPredicted sentence: [14, 50, 56, 54, 2, 40, 60, 2, 3, 1]\nPredicted sentence: Aous ez !\n\n-\nInput sentence: Be nice.\nExpected sentence: Sois gentil !\nInput sequence: [[15, 41, 0, 50, 45, 39, 41, 5]]\nExpected sequence: [32, 50, 44, 54, 2, 42, 40, 49, 55, 44, 47, 2, 3]\nPredicted sentence: [33, 50, 56, 54, 2, 40, 2, 48, 50, 44, 2, 3, 1]\nPredicted sentence: Tous e moi !\n\n-\nInput sentence: Be nice.\nExpected sentence: Sois gentille !\nInput sequence: [[15, 41, 0, 50, 45, 39, 41, 5]]\nExpected sequence: [32, 50, 44, 54, 2, 42, 40, 49, 55, 44, 47, 47, 40, 2, 3]\nPredicted sentence: [33, 50, 56, 54, 2, 40, 2, 48, 50, 44, 2, 3, 1]\nPredicted sentence: Tous e moi !\n\n-\nInput sentence: Be nice.\nExpected sentence: Soyez gentil !\nInput sequence: [[15, 41, 0, 50, 45, 39, 41, 5]]\nExpected sequence: [32, 50, 59, 40, 60, 2, 42, 40, 49, 55, 44, 47, 2, 3]\nPredicted sentence: [33, 50, 56, 54, 2, 40, 2, 48, 50, 44, 2, 3, 1]\nPredicted sentence: Tous e moi !\n\n-\nInput sentence: Be nice.\nExpected sentence: Soyez gentille !\nInput sequence: [[15, 41, 0, 50, 45, 39, 41, 5]]\nExpected sequence: [32, 50, 59, 40, 60, 2, 42, 40, 49, 55, 44, 47, 47, 40, 2, 3]\nPredicted sentence: [33, 50, 56, 54, 2, 40, 2, 48, 50, 44, 2, 3, 1]\nPredicted sentence: Tous e moi !\n\n-\nInput sentence: Be nice.\nExpected sentence: Soyez gentils !\nInput sequence: [[15, 41, 0, 50, 45, 39, 41, 5]]\nExpected sequence: [32, 50, 59, 40, 60, 2, 42, 40, 49, 55, 44, 47, 54, 2, 3]\nPredicted sentence: [33, 50, 56, 54, 2, 40, 2, 48, 50, 44, 2, 3, 1]\nPredicted sentence: Tous e moi !\n\n-\nInput sentence: Be nice.\nExpected sentence: Soyez gentilles !\nInput sequence: [[15, 41, 0, 50, 45, 39, 41, 5]]\nExpected sequence: [32, 50, 59, 40, 60, 2, 42, 40, 49, 55, 44, 47, 47, 40, 54, 2, 3]\nPredicted sentence: [33, 50, 56, 54, 2, 40, 2, 48, 50, 44, 2, 3, 1]\nPredicted sentence: Tous e moi !\n\n"
     ]
    },
    {
     "name": "stdout",
     "output_type": "stream",
     "text": [
      "-\nInput sentence: Beat it.\nExpected sentence: Dégage !\nInput sequence: [[15, 41, 37, 56, 0, 45, 56, 5]]\nExpected sequence: [17, 69, 42, 36, 42, 40, 76, 3]\nPredicted sentence: [14, 55, 55, 40, 49, 55, 40, 60, 2, 3, 1]\nPredicted sentence: Attentez !\n\n-\nInput sentence: Call me.\nExpected sentence: Appelle-moi !\nInput sequence: [[16, 37, 48, 48, 0, 49, 41, 5]]\nExpected sequence: [14, 51, 51, 40, 47, 47, 40, 6, 48, 50, 44, 2, 3]\nPredicted sentence: [14, 55, 55, 40, 60, 2, 3, 1]\nPredicted sentence: Attez !\n\n-\nInput sentence: Call me.\nExpected sentence: Appellez-moi !\nInput sequence: [[16, 37, 48, 48, 0, 49, 41, 5]]\nExpected sequence: [14, 51, 51, 40, 47, 47, 40, 60, 6, 48, 50, 44, 2, 3]\nPredicted sentence: [14, 55, 55, 40, 60, 2, 3, 1]\nPredicted sentence: Attez !\n\n-\nInput sentence: Call us.\nExpected sentence: Appelle-nous !\nInput sequence: [[16, 37, 48, 48, 0, 57, 55, 5]]\nExpected sequence: [14, 51, 51, 40, 47, 47, 40, 6, 49, 50, 56, 54, 2, 3]\nPredicted sentence: [14, 55, 55, 40, 60, 2, 3, 1]\nPredicted sentence: Attez !\n\n-\nInput sentence: Call us.\nExpected sentence: Appelez-nous !\nInput sequence: [[16, 37, 48, 48, 0, 57, 55, 5]]\nExpected sequence: [14, 51, 51, 40, 47, 40, 60, 6, 49, 50, 56, 54, 2, 3]\nPredicted sentence: [14, 55, 55, 40, 60, 2, 3, 1]\nPredicted sentence: Attez !\n\n-\nInput sentence: Come in.\nExpected sentence: Entrez !\nInput sequence: [[16, 51, 49, 41, 0, 45, 50, 5]]\nExpected sequence: [18, 49, 55, 53, 40, 60, 76, 3]\nPredicted sentence: [14, 55, 55, 40, 60, 2, 3, 1]\nPredicted sentence: Attez !\n\n-\nInput sentence: Come in.\nExpected sentence: Entre.\nInput sequence: [[16, 51, 49, 41, 0, 45, 50, 5]]\nExpected sequence: [18, 49, 55, 53, 40, 7]\nPredicted sentence: [14, 55, 55, 40, 60, 2, 3, 1]\nPredicted sentence: Attez !\n\n-\nInput sentence: Come in.\nExpected sentence: Entre !\nInput sequence: [[16, 51, 49, 41, 0, 45, 50, 5]]\nExpected sequence: [18, 49, 55, 53, 40, 2, 3]\nPredicted sentence: [14, 55, 55, 40, 60, 2, 3, 1]\nPredicted sentence: Attez !\n\n"
     ]
    }
   ],
   "source": [
    "for seq_index in range(100):\n",
    "    # Take one sequence (part of the training set)\n",
    "    # for trying out decoding.\n",
    "    input_seq = dataset.encoder_input_seqs[seq_index: seq_index + 1]\n",
    "    decoded_sentence = model.predict(input_seq)\n",
    "    print('-')\n",
    "    print('Input sentence:', dataset.input_texts[seq_index])\n",
    "    print('Expected sentence:', dataset.target_texts[seq_index][1:-1])\n",
    "    print('Input sequence:', input_seq)\n",
    "    print('Expected sequence:', dataset.target_text_to_indices(dataset.target_texts[seq_index][1:-1]))\n",
    "    print('Predicted sentence:', decoded_sentence)\n",
    "    print('Predicted sentence:', dataset.target_indices_to_text(decoded_sentence))\n"
   ]
  },
  {
   "cell_type": "code",
   "execution_count": null,
   "metadata": {},
   "outputs": [],
   "source": []
  }
 ],
 "metadata": {
  "kernelspec": {
   "display_name": "Python 2",
   "language": "python",
   "name": "python2"
  },
  "language_info": {
   "codemirror_mode": {
    "name": "ipython",
    "version": 2
   },
   "file_extension": ".py",
   "mimetype": "text/x-python",
   "name": "python",
   "nbconvert_exporter": "python",
   "pygments_lexer": "ipython2",
   "version": "2.7.6"
  }
 },
 "nbformat": 4,
 "nbformat_minor": 0
}
